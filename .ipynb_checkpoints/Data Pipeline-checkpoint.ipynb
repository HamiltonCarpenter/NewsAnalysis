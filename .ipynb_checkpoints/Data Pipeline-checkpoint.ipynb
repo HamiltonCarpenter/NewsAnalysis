{
 "cells": [
  {
   "cell_type": "code",
   "execution_count": null,
   "metadata": {},
   "outputs": [],
   "source": []
  },
  {
   "cell_type": "code",
   "execution_count": 1,
   "metadata": {},
   "outputs": [
    {
     "name": "stderr",
     "output_type": "stream",
     "text": [
      "ERROR:root:File `'Misc_Helper_Funcs.ipynb.py'` not found.\n",
      "ERROR:root:File `'Misc_Helper_Funcs.ipynb.py'` not found.\n",
      "ERROR:root:File `'Misc_Helper_Funcs.ipynb.py'` not found.\n",
      "ERROR:root:File `'Misc_Helper_Funcs.ipynb.py'` not found.\n",
      "ERROR:root:File `'Misc_Helper_Funcs.ipynb.py'` not found.\n",
      "ERROR:root:File `'Misc_Helper_Funcs.ipynb.py'` not found.\n",
      "ERROR:root:File `'Misc_Helper_Funcs.ipynb.py'` not found.\n"
     ]
    },
    {
     "name": "stdout",
     "output_type": "stream",
     "text": [
      "Database_Interactions Included\n",
      "Database_Interactions Included\n",
      "Database_Interactions Included\n",
      "Database_Interactions Included\n"
     ]
    }
   ],
   "source": [
    "from database_interactions import *  \n",
    "from local_file_interactions import * \n",
    "%run 'Document_Handling.ipynb'\n"
   ]
  },
  {
   "cell_type": "code",
   "execution_count": 2,
   "metadata": {},
   "outputs": [],
   "source": [
    "def clean_uncleaned_articles():\n",
    "    db = DatabaseManager()\n",
    "    lf = LocalFileHandler()\n",
    "    \n",
    "    uncleaned_articles = db.get_uncleaned_urls_from_db()\n",
    "    doc_status = clean\n",
    "    category = politics\n",
    "    #REPLACE HARDCODES\n",
    "    for article in uncleaned_articles:\n",
    "        url = article[0]\n",
    "        \n",
    "        #raw_location = lf.get_absolute_document_location(url,is_raw=True)\n",
    "        \n",
    "        #get raw\n",
    "        clean_location = lf.get_absolute_document_location(url,is_raw=False)\n",
    "        \n",
    "        #end get raw\n",
    "        #REEPLACE POLITICS HARDCODE\n",
    "        \n",
    "        #raw_text = scrape_article_for_raw_text(outlet,category,url)        \n",
    "        #filename = lf.convert_url_to_filename(url)\n",
    "        \n",
    "        #lf.update_path_structure(clean_location) #create file hirarchy, takes only organization as input\n",
    "        \n",
    "        doc = Document(url,raw_document=True)\n",
    "        doc.clean_document()\n",
    "        lf.write_doc_to_location(doc,standard_clean_directory)\n",
    "        \n",
    "        db.set_cleaned_file_location(url,clean_location)\n",
    "            \n",
    "        print(\"test complete for: \")\n",
    "        print(url)\n",
    "        #break #for testing 1 update\n",
    "        \n"
   ]
  },
  {
   "cell_type": "code",
   "execution_count": 7,
   "metadata": {
    "scrolled": true
   },
   "outputs": [
    {
     "name": "stdout",
     "output_type": "stream",
     "text": [
      "file loc:  /home/hog/Documents/nltk_practice/ArticleFiles/Clean/2019/9/17/Politics/WashingtonPost/https:__www_washingtonpost_com_politics_the-fix_who-has-qualified-for-the-fourth-democratic-debate_2019_09_17_9eb14f8c-7f20-4635-a48b-5a2814e5ee7d_story_html.txt\n",
      "filepath:  /home/hog/Documents/nltk_practice/ArticleFiles/Clean/2019/9/17/Politics/WashingtonPost/\n",
      "filename:  https:__www_washingtonpost_com_politics_the-fix_who-has-qualified-for-the-fourth-democratic-debate_2019_09_17_9eb14f8c-7f20-4635-a48b-5a2814e5ee7d_story_html.txt\n",
      "writing to:  /home/hog/Documents/nltk_practice/ArticleFiles/Clean/2019/9/17/Politics/WashingtonPost/ https:__www_washingtonpost_com_politics_the-fix_who-has-qualified-for-the-fourth-democratic-debate_2019_09_17_9eb14f8c-7f20-4635-a48b-5a2814e5ee7d_story_html.txt\n",
      "1 record(s) affected\n",
      "test complete for: \n",
      "https://www.washingtonpost.com/politics/the-fix/who-has-qualified-for-the-fourth-democratic-debate/2019/09/17/9eb14f8c-7f20-4635-a48b-5a2814e5ee7d_story.html\n",
      "file loc:  /home/hog/Documents/nltk_practice/ArticleFiles/Clean/2019/9/17/Politics/WashingtonPost/https:__www_washingtonpost_com_politics_the-fix_i-went-on-vacation-lewandowskis-laughable-explanation-for-not-relaying-trumps-message-to-sessions_2019_09_17_5edc378c-6fca-4fb6-b8e2-6a636c20aaed_story_html.txt\n",
      "filepath:  /home/hog/Documents/nltk_practice/ArticleFiles/Clean/2019/9/17/Politics/WashingtonPost/\n",
      "filename:  https:__www_washingtonpost_com_politics_the-fix_i-went-on-vacation-lewandowskis-laughable-explanation-for-not-relaying-trumps-message-to-sessions_2019_09_17_5edc378c-6fca-4fb6-b8e2-6a636c20aaed_story_html.txt\n",
      "writing to:  /home/hog/Documents/nltk_practice/ArticleFiles/Clean/2019/9/17/Politics/WashingtonPost/ https:__www_washingtonpost_com_politics_the-fix_i-went-on-vacation-lewandowskis-laughable-explanation-for-not-relaying-trumps-message-to-sessions_2019_09_17_5edc378c-6fca-4fb6-b8e2-6a636c20aaed_story_html.txt\n",
      "1 record(s) affected\n",
      "test complete for: \n",
      "https://www.washingtonpost.com/politics/the-fix/i-went-on-vacation-lewandowskis-laughable-explanation-for-not-relaying-trumps-message-to-sessions/2019/09/17/5edc378c-6fca-4fb6-b8e2-6a636c20aaed_story.html\n",
      "file loc:  /home/hog/Documents/nltk_practice/ArticleFiles/Clean/2019/9/17/Politics/WashingtonPost/https:__www_washingtonpost_com_politics_the-fix_cokie-roberts-was-all-about-paying-it-forward--and-paving-the-way--for-the-women-she-worked-with_2019_09_17_4d6b6203-4323-40a1-81fe-c2c8fc9c9cf9_story_html.txt\n",
      "filepath:  /home/hog/Documents/nltk_practice/ArticleFiles/Clean/2019/9/17/Politics/WashingtonPost/\n",
      "filename:  https:__www_washingtonpost_com_politics_the-fix_cokie-roberts-was-all-about-paying-it-forward--and-paving-the-way--for-the-women-she-worked-with_2019_09_17_4d6b6203-4323-40a1-81fe-c2c8fc9c9cf9_story_html.txt\n",
      "writing to:  /home/hog/Documents/nltk_practice/ArticleFiles/Clean/2019/9/17/Politics/WashingtonPost/ https:__www_washingtonpost_com_politics_the-fix_cokie-roberts-was-all-about-paying-it-forward--and-paving-the-way--for-the-women-she-worked-with_2019_09_17_4d6b6203-4323-40a1-81fe-c2c8fc9c9cf9_story_html.txt\n",
      "1 record(s) affected\n",
      "test complete for: \n",
      "https://www.washingtonpost.com/politics/the-fix/cokie-roberts-was-all-about-paying-it-forward--and-paving-the-way--for-the-women-she-worked-with/2019/09/17/4d6b6203-4323-40a1-81fe-c2c8fc9c9cf9_story.html\n",
      "file loc:  /home/hog/Documents/nltk_practice/ArticleFiles/Clean/2019/9/17/Politics/WashingtonPost/http:__washingtonpost_com_politics_trump-homeless-people-hurt-the-prestige-of-los-angeles-san-francisco_2019_09_17_71e71b9e-d982-11e9-ac63-3016711543fe_story_html?tid=pm_politics_pop.txt\n",
      "filepath:  /home/hog/Documents/nltk_practice/ArticleFiles/Clean/2019/9/17/Politics/WashingtonPost/\n",
      "filename:  http:__washingtonpost_com_politics_trump-homeless-people-hurt-the-prestige-of-los-angeles-san-francisco_2019_09_17_71e71b9e-d982-11e9-ac63-3016711543fe_story_html?tid=pm_politics_pop.txt\n",
      "writing to:  /home/hog/Documents/nltk_practice/ArticleFiles/Clean/2019/9/17/Politics/WashingtonPost/ http:__washingtonpost_com_politics_trump-homeless-people-hurt-the-prestige-of-los-angeles-san-francisco_2019_09_17_71e71b9e-d982-11e9-ac63-3016711543fe_story_html?tid=pm_politics_pop.txt\n",
      "1 record(s) affected\n",
      "test complete for: \n",
      "http://washingtonpost.com/politics/trump-homeless-people-hurt-the-prestige-of-los-angeles-san-francisco/2019/09/17/71e71b9e-d982-11e9-ac63-3016711543fe_story.html?tid=pm_politics_pop\n"
     ]
    }
   ],
   "source": [
    "clean_uncleaned_articles()"
   ]
  },
  {
   "cell_type": "code",
   "execution_count": 30,
   "metadata": {},
   "outputs": [],
   "source": [
    "#db.get_uncleaned_urls_from_db()"
   ]
  },
  {
   "cell_type": "code",
   "execution_count": 5,
   "metadata": {},
   "outputs": [],
   "source": [
    "db = DatabaseManager()\n",
    "lf = LocalFileHandler()"
   ]
  },
  {
   "cell_type": "code",
   "execution_count": 6,
   "metadata": {},
   "outputs": [],
   "source": [
    "a = 'https:__www_washingtonpost_com_politics_cory-booker-wants-a-baby-bond-for-every-us-child-would-it-work_2019_08_15_35003f16-b88b-11e9-bad6-609f75bfd97f_story_html.txt'\n",
    "b = 'https:__www_washingtonpost_com_politics_cory-booker-wants-a-baby-bond-for-every-us-child-would-it-work_2019_08_15_35003f16-b88b-11e9-bad6-609f75bfd97f_story_html.txt'\n"
   ]
  },
  {
   "cell_type": "code",
   "execution_count": null,
   "metadata": {},
   "outputs": [],
   "source": []
  },
  {
   "cell_type": "code",
   "execution_count": null,
   "metadata": {},
   "outputs": [],
   "source": []
  },
  {
   "cell_type": "code",
   "execution_count": null,
   "metadata": {},
   "outputs": [],
   "source": [
    "lf.get_absolute_document_location(a,is_raw=False)"
   ]
  },
  {
   "cell_type": "code",
   "execution_count": null,
   "metadata": {},
   "outputs": [],
   "source": [
    "lf.get_absolute_document_location(a,is_raw=False)"
   ]
  },
  {
   "cell_type": "code",
   "execution_count": null,
   "metadata": {},
   "outputs": [],
   "source": []
  },
  {
   "cell_type": "code",
   "execution_count": null,
   "metadata": {},
   "outputs": [],
   "source": []
  }
 ],
 "metadata": {
  "kernelspec": {
   "display_name": "Python 3",
   "language": "python",
   "name": "python3"
  },
  "language_info": {
   "codemirror_mode": {
    "name": "ipython",
    "version": 3
   },
   "file_extension": ".py",
   "mimetype": "text/x-python",
   "name": "python",
   "nbconvert_exporter": "python",
   "pygments_lexer": "ipython3",
   "version": "3.6.8"
  }
 },
 "nbformat": 4,
 "nbformat_minor": 2
}
