{
 "cells": [
  {
   "cell_type": "code",
   "execution_count": null,
   "metadata": {},
   "outputs": [],
   "source": []
  },
  {
   "cell_type": "code",
   "execution_count": 2,
   "metadata": {},
   "outputs": [],
   "source": []
  },
  {
   "cell_type": "code",
   "execution_count": null,
   "metadata": {},
   "outputs": [],
   "source": []
  },
  {
   "cell_type": "code",
   "execution_count": 3,
   "metadata": {},
   "outputs": [
    {
     "name": "stdout",
     "output_type": "stream",
     "text": [
      "Database_Interactions Included\n"
     ]
    }
   ],
   "source": [
    "print(\"Database_Interactions Included\")"
   ]
  },
  {
   "cell_type": "code",
   "execution_count": 4,
   "metadata": {},
   "outputs": [],
   "source": [
    "#update_scrape_table(mycursor)"
   ]
  },
  {
   "cell_type": "code",
   "execution_count": 1,
   "metadata": {},
   "outputs": [],
   "source": []
  },
  {
   "cell_type": "code",
   "execution_count": 10,
   "metadata": {},
   "outputs": [],
   "source": [
    "#json_data = json.dumps({'meme':'memeval'})\n",
    "\n",
    "#loaded_json = json.loads(json_data)"
   ]
  },
  {
   "cell_type": "code",
   "execution_count": 11,
   "metadata": {},
   "outputs": [
    {
     "name": "stdout",
     "output_type": "stream",
     "text": [
      "1 record inserted.\n"
     ]
    }
   ],
   "source": []
  },
  {
   "cell_type": "code",
   "execution_count": null,
   "metadata": {},
   "outputs": [],
   "source": []
  },
  {
   "cell_type": "code",
   "execution_count": 30,
   "metadata": {},
   "outputs": [],
   "source": [
    "#import json\n",
    "\n",
    "# a Python object (dict):\n",
    "#x = {\n",
    "#  \"name\": \"John\",\n",
    "#  \"age\": 30,\n",
    "#  \"city\": \"New York\"\n",
    "#}\n",
    "\n",
    "# convert into JSON:\n",
    "#y = json.dumps(x)\n",
    "\n",
    "# the result is a JSON string:\n",
    "#print(y) "
   ]
  },
  {
   "cell_type": "code",
   "execution_count": null,
   "metadata": {},
   "outputs": [],
   "source": []
  },
  {
   "cell_type": "code",
   "execution_count": 3,
   "metadata": {},
   "outputs": [],
   "source": [
    "#db = DatabaseManager()\n",
    "\n",
    "#db.check_if_duplicate_url_already_in_story_summaries(\"http://washingtonpost.com/politics/omar-tlaib-blast-israel-for-blocking-their-visit/2019/08/19/6c0ffda6-c2b9-11e9-850e-c0eef81a5224_story.html?tid=pm_politics_pop\")\n",
    "\n",
    "\n",
    "\n",
    "#db.add_summary_to_db('url', 'outlet', 'same_stories', 'date')"
   ]
  },
  {
   "cell_type": "code",
   "execution_count": null,
   "metadata": {},
   "outputs": [],
   "source": [
    "#CREATE TABLE StorySummaries(url varchar(1000), descriptors json, same_stories json, exact_duplicates json, summary varchar(10000), id MEDIUMINT NOT NULL AUTO_INCREMENT, PRIMARY KEY (id) );"
   ]
  }
 ],
 "metadata": {
  "kernelspec": {
   "display_name": "Python 3",
   "language": "python",
   "name": "python3"
  },
  "language_info": {
   "codemirror_mode": {
    "name": "ipython",
    "version": 3
   },
   "file_extension": ".py",
   "mimetype": "text/x-python",
   "name": "python",
   "nbconvert_exporter": "python",
   "pygments_lexer": "ipython3",
   "version": "3.6.8"
  }
 },
 "nbformat": 4,
 "nbformat_minor": 2
}
