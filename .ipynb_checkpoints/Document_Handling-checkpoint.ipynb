{
 "cells": [
  {
   "cell_type": "code",
   "execution_count": 4,
   "metadata": {},
   "outputs": [
    {
     "name": "stdout",
     "output_type": "stream",
     "text": [
      "Helper Functions Included\n",
      "Helper Functions Included\n",
      "Helper Functions Included\n",
      "Database_Interactions Included\n",
      "Helper Functions Included\n",
      "Database_Interactions Included\n"
     ]
    }
   ],
   "source": [
    "\n",
    "from bs4 import BeautifulSoup\n",
    "\n",
    "%run 'Misc_Helper_Funcs.ipynb'\n",
    "%run 'Local_File_Interactions.ipynb'\n",
    "%run 'Database_Interactions.ipynb'"
   ]
  },
  {
   "cell_type": "code",
   "execution_count": null,
   "metadata": {},
   "outputs": [],
   "source": []
  },
  {
   "cell_type": "code",
   "execution_count": 5,
   "metadata": {},
   "outputs": [],
   "source": [
    "#lf.generate_organizational_path('raw',outlet,category,year,month,day)"
   ]
  },
  {
   "cell_type": "code",
   "execution_count": 6,
   "metadata": {},
   "outputs": [],
   "source": [
    "def soup_cleaner(document_string):\n",
    "    soup = BeautifulSoup(document_string, \"html.parser\")\n",
    "\n",
    "    #extract text\n",
    "    text = soup.find_all('p', text=True)\n",
    "    return_string = ''\n",
    "    for t in text:\n",
    "        return_string = return_string + t.text + '\\n'\n",
    "    return return_string\n",
    "    \n",
    "class Document:\n",
    "    #def get\n",
    "    \n",
    "    def __init__(self, in_url, raw_document=False):\n",
    "        \n",
    "        if(True == raw_document):\n",
    "            self.url = in_url\n",
    "            self.is_raw = True\n",
    "            lf = LocalFileHandler()\n",
    "            self.file_location = lf.get_absolute_document_location(self.url,raw)\n",
    "            self.text = lf.get_text_from_location(self.file_location)\n",
    "        else:\n",
    "            self.url = in_url\n",
    "            self.is_raw = False\n",
    "            lf = LocalFileHandler()\n",
    "            self.file_location = lf.get_absolute_document_location(self.url,clean)\n",
    "            self.text = lf.get_text_from_location(self.file_location)\n",
    "            #return error if trying to get clean doc where none exists \n",
    "            \n",
    "    def clean_document(self):\n",
    "        if(True == self.is_raw):\n",
    "            lf = LocalFileHandler()\n",
    "            self.text = soup_cleaner(self.text)\n",
    "            self.is_raw = False\n",
    "            \n",
    "    \n",
    "\n",
    "    \n",
    "\n"
   ]
  },
  {
   "cell_type": "code",
   "execution_count": 15,
   "metadata": {},
   "outputs": [],
   "source": [
    "#doc = Document('https://www.washingtonpost.com/politics/trump-is-indeed-the-king-of-debt/2019/09/12/433510a5-faf7-4fe3-a0f9-84f4d7b267bd_story.html', raw_document=True)\n"
   ]
  },
  {
   "cell_type": "code",
   "execution_count": 16,
   "metadata": {},
   "outputs": [
    {
     "name": "stdout",
     "output_type": "stream",
     "text": [
      "President Trump appears to be backing away from potential support for gun background check legislation, according to White House aides, congressional leaders and gun advocates, dimming prospects that Washington will approve significant new gun measures in the wake of mass shootings that left 31 dead.\n",
      "Immediately after the carnage in El Paso and Dayton, Ohio, Trump said “there is a great appetite” for tightening background checks on people who buy firearms. But in recent days, Trump has focused in public remarks on the need to keep guns out of the hands of the mentally ill while emphasizing that the nation already has “very strong background checks right now” — positions that hew more closely to the views of the National Rifle Association.\n",
      "Behind the scenes, Trump’s communication with key lawmakers, including Sen. Joe Manchin III, a moderate Democrat from West Virginia who has sought to develop bipartisan gun-control measures, has gone mostly cold, according to Capitol Hill aides, in part because Congress has left town for its summer recess.\n",
      "Meanwhile, the president spent most of his time with advisers during his week-long vacation in Bedminster, N.J., focused on other matters, including the possibility of an economic downturn, contentious trade talks with China, his nascent 2020 reelection campaign and concerns about how the media portrayed the size of the crowd at his campaign rally Thursday in Manchester, N.H.\n",
      "On Monday, Democratic leaders said they viewed Trump’s shifting posture as a sign that he was never serious about leading a push to tighten gun laws.\n",
      "“We’ve seen this movie before: President Trump, feeling public pressure in the immediate aftermath of a horrible shooting, talks about doing something meaningful to address gun violence, but inevitably, he backtracks in response to pressure from the NRA and the hard-right,” Senate Minority Leader Charles E. Schumer (D-N.Y.) said in a statement. “These retreats from President Trump are not only disappointing but also heartbreaking, particularly for the families of the victims of gun violence.”\n",
      "A White House official rejected the notion that Trump has shifted his stance, pointing to remarks the president made to reporters last week in which he stated support for “strong, meaningful background checks” that would help prevent “people that are insane, people that are mentally ill” from obtaining firearms.\n",
      "“The president is not backing down,” said the official, who spoke on the condition of anonymity to discuss the president’s position. “The White House continues to work through a policy process and is engaging with congressional staff on several fronts.”\n",
      "The slaughter of 22 people in an El Paso shopping mall and nine in a Dayton nightlife district in less than 24 hours in early August marked the latest instances of mass violence amid increasingly frequent mass shootings and rising concern about domestic extremism.\n",
      "But after each round of killings, the political debate has failed to produce a significant response by Congress, as Republicans have joined the powerful gun lobby in resisting fresh gun-control legislation.\n",
      "On Monday, Schumer and House Speaker Nancy Pelosi (D-Calif.) called on Senate Majority Leader Mitch McConnell (R-Ky.) to let his chamber vote on a bill approved by the Democratic-led House that would mandate universal background checks for gun purchases, including private transfers. But McConnell has rebuffed calls to bring the Senate back to Washington to deal with the issue, and his advisers acknowledged that he is unlikely to act without Trump’s leadership.\n",
      "McConnell has told advisers that he would push legislation only if the president were fully on board and it had widespread support among Republicans in the Senate.\n",
      "“Trump says it’s on Congress to lead,” said the aide, who spoke on the condition of anonymity to frankly address the political dynamics. “That’s an easy way for nothing to ever get done.”\n",
      "White House officials said they are preparing a list of other ideas on gun and mental health issues for Trump to review and potentially pass on to Congress with his support.\n",
      "But Trump’s campaign commissioned a poll on guns after this month’s shootings, and his political advisers warned him that there is little support for significant action among Republican voters, and even some Democrats, people familiar with the conversations said.\n",
      "“He is going to be very careful,” said one person close to the president, who spoke on the condition of anonymity to discuss private conversations. “He isn’t inclined to do much right now.”\n",
      "During an exchange with reporters Sunday as he prepared to return to Washington from Bedminster, Trump answered a question on gun control by talking first about mental illness. He then suddenly shifted topics to assert the need for stricter voting identification measures.\n",
      "“A lot of people want to see something happen,” Trump said, after reporters pressed him on guns. “But just remember this: Big mental problem, and we do have a lot of background checks right now.”\n",
      "Since the shootings, NRA officials have repeatedly told the president and senior White House officials that universal background checks won’t do much to prevent mass shootings, according to people familiar with the private conversations.\n",
      "NRA officials also have lobbied Vice President Pence’s office and acting White House chief of staff Mick Mulvaney, as well as governors and lawmakers who face potentially difficult reelection races in 2020, officials said. White House aides and NRA officials have pointed out to Trump that many of the states he needs to win next year have strong contingents of NRA members who would be frustrated if Trump made any drastic moves on gun control.\n",
      "Gun lobby representatives have argued that Trump should focus on prosecuting gun crimes instead, White House officials said.\n",
      "Some Republicans noted that Trump has shown no inclination to lead an effort on any legislation opposed by the GOP base. Last year, he floated support for offering a path to citizenship for some undocumented immigrants in exchange for billions in funding for a border wall, but he quickly backed off in the face of a conservative backlash.\n",
      "And Trump has vaguely suggested doing more on background checks in the wake of past mass shootings, only to drop the matter — most notably after 17 people were killed in a shooting at Marjory Stoneman Douglas High School in Parkland, Fla., in February 2018.\n",
      "In February 2017, a week after taking office, Trump rolled back Obama-era regulations aimed at making it more difficult for mentally ill people to buy firearms.\n",
      "“I can’t think of a single time he has really pushed Republicans to do something they weren’t going to be doing anyway,” said Brendan Buck, who served as a top aide to former House speaker Paul D. Ryan (R-Wis.), who left Congress in January.\n",
      "Aides in both parties noted that the president already seems distracted by numerous other issues, including his desire for the United States to purchase Greenland — though officials there have ruled it out.\n",
      "Late Monday, Trump tweeted an illustration of Greenland, with a new gold Trump tower rising over a bay. “I promise not to do this to Greenland!” he wrote.\n",
      "\n"
     ]
    }
   ],
   "source": [
    "#doc = Document('https://www.washingtonpost.com/politics/after-two-more-mass-shootings-trump-again-appears-to-back-away-from-gun-background-checks/2019/08/19/ddbf75e4-c2af-11e9-b72f-b31dfaa77212_story.html', raw_document=True)\n",
    "\n",
    "#doc.clean_document()\n",
    "#print(doc.text)"
   ]
  },
  {
   "cell_type": "code",
   "execution_count": 12,
   "metadata": {},
   "outputs": [],
   "source": [
    "#lf = LocalFileHandler()\n",
    "\n",
    "#lf.write_doc_to_location(doc,standard_clean_directory)"
   ]
  },
  {
   "cell_type": "code",
   "execution_count": 13,
   "metadata": {},
   "outputs": [],
   "source": [
    "#lf.update_path_structure('/home/hog/Documents/nltk_practice/ArticleFiles/Clean/2019/9/12/Politics/WashingtonPost/')"
   ]
  },
  {
   "cell_type": "code",
   "execution_count": null,
   "metadata": {},
   "outputs": [],
   "source": []
  },
  {
   "cell_type": "code",
   "execution_count": 14,
   "metadata": {},
   "outputs": [],
   "source": [
    "\n",
    "#lf = LocalFileHandler()\n",
    "\n",
    "#fp = \"/home/hog/Documents/nltk_practice/ArticleFiles/Raw/2019/9/12/Politics/WashingtonPost/\"\n",
    "#fn = \"http:__washingtonpost_com_politics_youre-a-prop-in-the-back-advisers-struggle-to-obey-trumps-kafkaesque-rules_2019_09_11_35bbf622-d4a9-11e9-9610-fb56c5522e1c_story_html?tid=pm_politics_pop.txt\"\n",
    "\n",
    "#content = lf.get_text_from_location(fn,fp)\n",
    "#cleaned_content = print(soup_cleaner(content))\n",
    "\n",
    "\n"
   ]
  },
  {
   "cell_type": "code",
   "execution_count": null,
   "metadata": {},
   "outputs": [],
   "source": []
  },
  {
   "cell_type": "code",
   "execution_count": null,
   "metadata": {},
   "outputs": [],
   "source": []
  }
 ],
 "metadata": {
  "kernelspec": {
   "display_name": "Python 3",
   "language": "python",
   "name": "python3"
  },
  "language_info": {
   "codemirror_mode": {
    "name": "ipython",
    "version": 3
   },
   "file_extension": ".py",
   "mimetype": "text/x-python",
   "name": "python",
   "nbconvert_exporter": "python",
   "pygments_lexer": "ipython3",
   "version": "3.6.8"
  }
 },
 "nbformat": 4,
 "nbformat_minor": 2
}
