{
 "cells": [
  {
   "cell_type": "code",
   "execution_count": 4,
   "metadata": {},
   "outputs": [
    {
     "name": "stdout",
     "output_type": "stream",
     "text": [
      "Helper Functions Included\n",
      "Helper Functions Included\n",
      "Helper Functions Included\n",
      "Database_Interactions Included\n",
      "Helper Functions Included\n",
      "Database_Interactions Included\n"
     ]
    }
   ],
   "source": [
    "\n",
    "from bs4 import BeautifulSoup\n",
    "\n",
    "%run 'Misc_Helper_Funcs.ipynb'\n",
    "%run 'Local_File_Interactions.ipynb'\n",
    "%run 'Database_Interactions.ipynb'"
   ]
  },
  {
   "cell_type": "code",
   "execution_count": null,
   "metadata": {},
   "outputs": [],
   "source": []
  },
  {
   "cell_type": "code",
   "execution_count": 5,
   "metadata": {},
   "outputs": [],
   "source": [
    "#lf.generate_organizational_path('raw',outlet,category,year,month,day)"
   ]
  },
  {
   "cell_type": "code",
   "execution_count": 2,
   "metadata": {},
   "outputs": [],
   "source": [
    "def soup_cleaner(document_string):\n",
    "    soup = BeautifulSoup(document_string, \"html.parser\")\n",
    "\n",
    "    #extract text\n",
    "    text = soup.find_all('p', text=True)\n",
    "    return_string = ''\n",
    "    for t in text:\n",
    "        return_string = return_string + t.text + '\\n'\n",
    "    return return_string\n",
    "    \n",
    "class Document:\n",
    "    #def get\n",
    "    \n",
    "    def __init__(self, in_url, raw_document=False):\n",
    "        \n",
    "        if(True == raw_document):\n",
    "            self.url = in_url\n",
    "            self.is_raw = True\n",
    "            lf = LocalFileHandler()\n",
    "            self.file_location = lf.get_absolute_document_location(self.url,is_raw = True)\n",
    "            self.text = lf.get_text_from_location(self.file_location)\n",
    "        else:\n",
    "            self.url = in_url\n",
    "            self.is_raw = False\n",
    "            lf = LocalFileHandler()\n",
    "            self.file_location = lf.get_absolute_document_location(self.url,is_raw = False)\n",
    "            self.text = lf.get_text_from_location(self.file_location)\n",
    "            #return error if trying to get clean doc where none exists \n",
    "            \n",
    "    def clean_document(self):\n",
    "        if(True == self.is_raw):\n",
    "            lf = LocalFileHandler()\n",
    "            self.text = soup_cleaner(self.text)\n",
    "            self.is_raw = False\n",
    "            \n",
    "    \n",
    "\n",
    "    \n",
    "\n"
   ]
  },
  {
   "cell_type": "code",
   "execution_count": 15,
   "metadata": {},
   "outputs": [],
   "source": [
    "#doc = Document('https://www.washingtonpost.com/politics/trump-is-indeed-the-king-of-debt/2019/09/12/433510a5-faf7-4fe3-a0f9-84f4d7b267bd_story.html', raw_document=True)\n"
   ]
  },
  {
   "cell_type": "code",
   "execution_count": 1,
   "metadata": {},
   "outputs": [],
   "source": [
    "#doc = Document('https://www.washingtonpost.com/politics/after-two-more-mass-shootings-trump-again-appears-to-back-away-from-gun-background-checks/2019/08/19/ddbf75e4-c2af-11e9-b72f-b31dfaa77212_story.html', raw_document=True)\n",
    "\n",
    "#doc.clean_document()\n",
    "#print(doc.text)"
   ]
  },
  {
   "cell_type": "code",
   "execution_count": 12,
   "metadata": {},
   "outputs": [],
   "source": [
    "#lf = LocalFileHandler()\n",
    "\n",
    "#lf.write_doc_to_location(doc,standard_clean_directory)"
   ]
  },
  {
   "cell_type": "code",
   "execution_count": 13,
   "metadata": {},
   "outputs": [],
   "source": [
    "#lf.update_path_structure('/home/hog/Documents/nltk_practice/ArticleFiles/Clean/2019/9/12/Politics/WashingtonPost/')"
   ]
  },
  {
   "cell_type": "code",
   "execution_count": null,
   "metadata": {},
   "outputs": [],
   "source": []
  },
  {
   "cell_type": "code",
   "execution_count": 14,
   "metadata": {},
   "outputs": [],
   "source": [
    "\n",
    "#lf = LocalFileHandler()\n",
    "\n",
    "#fp = \"/home/hog/Documents/nltk_practice/ArticleFiles/Raw/2019/9/12/Politics/WashingtonPost/\"\n",
    "#fn = \"http:__washingtonpost_com_politics_youre-a-prop-in-the-back-advisers-struggle-to-obey-trumps-kafkaesque-rules_2019_09_11_35bbf622-d4a9-11e9-9610-fb56c5522e1c_story_html?tid=pm_politics_pop.txt\"\n",
    "\n",
    "#content = lf.get_text_from_location(fn,fp)\n",
    "#cleaned_content = print(soup_cleaner(content))\n",
    "\n",
    "\n"
   ]
  },
  {
   "cell_type": "code",
   "execution_count": null,
   "metadata": {},
   "outputs": [],
   "source": []
  },
  {
   "cell_type": "code",
   "execution_count": null,
   "metadata": {},
   "outputs": [],
   "source": []
  }
 ],
 "metadata": {
  "kernelspec": {
   "display_name": "Python 3",
   "language": "python",
   "name": "python3"
  },
  "language_info": {
   "codemirror_mode": {
    "name": "ipython",
    "version": 3
   },
   "file_extension": ".py",
   "mimetype": "text/x-python",
   "name": "python",
   "nbconvert_exporter": "python",
   "pygments_lexer": "ipython3",
   "version": "3.6.8"
  }
 },
 "nbformat": 4,
 "nbformat_minor": 2
}
