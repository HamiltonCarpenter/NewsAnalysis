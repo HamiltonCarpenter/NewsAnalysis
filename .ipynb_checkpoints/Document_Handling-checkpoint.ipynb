{
 "cells": [
  {
   "cell_type": "code",
   "execution_count": 48,
   "metadata": {},
   "outputs": [
    {
     "name": "stdout",
     "output_type": "stream",
     "text": [
      "Helper Functions Included\n",
      "Helper Functions Included\n",
      "Helper Functions Included\n",
      "Database_Interactions Included\n",
      "Helper Functions Included\n",
      "Database_Interactions Included\n"
     ]
    }
   ],
   "source": [
    "\n",
    "from bs4 import BeautifulSoup\n",
    "\n",
    "%run 'Misc_Helper_Funcs.ipynb'\n",
    "%run 'Local_File_Interactions.ipynb'\n",
    "%run 'Database_Interactions.ipynb'"
   ]
  },
  {
   "cell_type": "code",
   "execution_count": null,
   "metadata": {},
   "outputs": [],
   "source": []
  },
  {
   "cell_type": "code",
   "execution_count": 49,
   "metadata": {},
   "outputs": [],
   "source": [
    "#lf.generate_organizational_path('raw',outlet,category,year,month,day)"
   ]
  },
  {
   "cell_type": "code",
   "execution_count": 50,
   "metadata": {},
   "outputs": [],
   "source": [
    "def soup_cleaner(document_string):\n",
    "    soup = BeautifulSoup(document_string, \"html.parser\")\n",
    "\n",
    "    #extract text\n",
    "    text = soup.find_all('p', text=True)\n",
    "    return_string = ''\n",
    "    for t in text:\n",
    "        return_string = return_string + t.text + '\\n'\n",
    "    return return_string\n",
    "    \n",
    "class Document:\n",
    "    #def get\n",
    "    \n",
    "    def __init__(self, in_url, raw_document=False):\n",
    "        \n",
    "        if(True == raw_document):\n",
    "            self.url = in_url\n",
    "            self.is_raw = True\n",
    "            lf = LocalFileHandler()\n",
    "            self.file_location = lf.get_absolute_document_location(self.url,raw)\n",
    "            self.text = lf.get_text_from_location(self.file_location)\n",
    "        else:\n",
    "            self.url = in_url\n",
    "            self.is_raw = False\n",
    "            lf = LocalFileHandler()\n",
    "            self.file_location = lf.get_absolute_document_location(self.url,clean)\n",
    "            self.text = tf.get_text_from_location(self.file_location)\n",
    "            #return error if trying to get clean doc where none exists \n",
    "            \n",
    "    def clean_document(self):\n",
    "        if(True == self.is_raw):\n",
    "            lf = LocalFileHandler()\n",
    "            self.text = soup_cleaner(self.text)\n",
    "            self.is_raw = False\n",
    "            \n",
    "    \n",
    "\n",
    "    \n",
    "\n"
   ]
  },
  {
   "cell_type": "code",
   "execution_count": 54,
   "metadata": {},
   "outputs": [],
   "source": [
    "#doc = Document('https://www.washingtonpost.com/politics/trump-is-indeed-the-king-of-debt/2019/09/12/433510a5-faf7-4fe3-a0f9-84f4d7b267bd_story.html', raw_document=True)\n",
    "\n"
   ]
  },
  {
   "cell_type": "code",
   "execution_count": 55,
   "metadata": {},
   "outputs": [
    {
     "name": "stdout",
     "output_type": "stream",
     "text": [
      "To a large extent, President Trump’s politics were formed in the cauldron of conservative politics during President Barack Obama’s first term in office. On the campaign trail in 2015 and 2016, he railed against things like the Affordable Care Act and Common Core, figuring, correctly, that his base of support would react as favorably to those triggers as he might.\n",
      "Of course, that wasn’t really his nature. As a businessman, Trump relied on debt. At one point during the campaign, he called himself the “king of debt,” a bit of bragging about how he had increased his wealth. As it turns out, though, that bit of bragging was a better predictor of his presidency than his pledges to keep the debt under control.\n",
      "(A function in part of the decrease in the debt — but also, certainly, of Obama’s reelection.)\n",
      "Since the administration of President Bill Clinton, there have been two periods of massive federal deficits. The first was during Obama’s first term, in the aftermath of a recession. The other is now, in the aftermath of ... well, tax cuts, in part.\n",
      "Here’s the monthly buildup of the deficit since Clinton’s first term.\n",
      "In fairness, he’s also seen the one month with a surplus that large, but his term in office has seen a greater percentage of months with deficits — 75 percent — than any presidential term in the past 30 years save Obama’s first.\n",
      "Asked how you renegotiate the federal debt, Trump said it was simple.\n",
      "“You go back and you say, hey guess what, the economy crashed,” he said. “I’m going to give you back half” of what I owe.\n",
      "The president of debt has yet to try that tactic.\n",
      "\n"
     ]
    }
   ],
   "source": [
    "#doc.clean_document()\n",
    "#print(doc.text)"
   ]
  },
  {
   "cell_type": "code",
   "execution_count": 56,
   "metadata": {},
   "outputs": [
    {
     "name": "stdout",
     "output_type": "stream",
     "text": [
      "file loc:  /home/hog/Documents/nltk_practice/ArticleFiles/Clean/2019/9/12/Politics/WashingtonPost/https:__www_washingtonpost_com_politics_trump-is-indeed-the-king-of-debt_2019_09_12_433510a5-faf7-4fe3-a0f9-84f4d7b267bd_story_html.txt\n",
      "filepath:  /home/hog/Documents/nltk_practice/ArticleFiles/Clean/2019/9/12/Politics/WashingtonPost/\n",
      "filename:  https:__www_washingtonpost_com_politics_trump-is-indeed-the-king-of-debt_2019_09_12_433510a5-faf7-4fe3-a0f9-84f4d7b267bd_story_html.txt\n",
      "writing to:  /home/hog/Documents/nltk_practice/ArticleFiles/Clean/2019/9/12/Politics/WashingtonPost/ https:__www_washingtonpost_com_politics_trump-is-indeed-the-king-of-debt_2019_09_12_433510a5-faf7-4fe3-a0f9-84f4d7b267bd_story_html.txt\n"
     ]
    }
   ],
   "source": [
    "#lf = LocalFileHandler()\n",
    "\n",
    "#lf.write_doc_to_location(doc,standard_clean_directory)"
   ]
  },
  {
   "cell_type": "code",
   "execution_count": 47,
   "metadata": {},
   "outputs": [
    {
     "data": {
      "text/plain": [
       "False"
      ]
     },
     "execution_count": 47,
     "metadata": {},
     "output_type": "execute_result"
    }
   ],
   "source": [
    "#lf.update_path_structure('/home/hog/Documents/nltk_practice/ArticleFiles/Clean/2019/9/12/Politics/WashingtonPost/')"
   ]
  },
  {
   "cell_type": "code",
   "execution_count": null,
   "metadata": {},
   "outputs": [],
   "source": []
  },
  {
   "cell_type": "code",
   "execution_count": 22,
   "metadata": {},
   "outputs": [
    {
     "name": "stdout",
     "output_type": "stream",
     "text": [
      "In President Trump’s renegade orbit, there are unspoken rules he expects his advisers to follow. He tolerates a modicum of dissent, so long as it remains private; expects advisers to fall in line and defend his decisions; and demands absolute fealty at all times.\n",
      "These rules and more were broken by John Bolton, the national security adviser who left the White House suddenly Tuesday on acrimonious terms.\n",
      "The rupture between Trump and Bolton, as chronicled in public and in private accounts of administration officials, is a case study of the president’s sometimes Kafkaesque management style — an unusual set of demands and expectations he sets for those in his direct employ.\n",
      "The episode also illustrates the varied forces that propel advisers into the president’s inner circle — and often churn them out with similar velocity.\n",
      "“You’re there more as an annoyance to him because he has to fill some of these jobs, but you’re not there to do anything other than be backlighting,” said Anthony Scaramucci, a former White House communications director who is now critical of Trump. “He wants, like, a catatonic loyalty, and he wants you to be behind the backlights. There’s one spotlight on the stage, it’s shining on Trump, and you’re a prop in the back with dim lights.”\n",
      "Trump’s desires for his advisers range from the trivial — someone who looks the part — to the traditional — someone willing to vigorously support him and defend his policies in media appearances. But these demands can be grating and at times terminal for members of his staff — especially for those who, like the national security adviser, may find themselves at odds with the president on critical issues.\n",
      "“There is no person that is part of the daily Trump decision-making process that can survive long term,” said a former senior administration official who spoke on the condition of anonymity to offer a candid assessment. “The president doesn’t like people to get good press. He doesn’t like people to get bad press. Yet he expects everyone to be relevant and important and supportive at all times. Even if a person could do all those things, the president would grow tired of anyone in his immediate orbit.”\n",
      "Leon Panetta, who served as a defense secretary, CIA director and White House chief of staff in past Democratic administrations, said Trump’s eclectic management style can be dangerous.\n",
      "“The presidency is an isolated position to begin with, and it is incredibly important to have people around you who will tell you when they think you’re wrong,” Panetta said. “Presidents need to appreciate that information and not then take it out on that individual.”\n",
      "“This president,” Panetta added of Trump, “has a real blind spot in that he does not want anybody around him who is critical.”\n",
      "Current and former White House officials stress that Trump brokers and even encourages disagreement, but only to a point and only on his terms. The president enjoys gladiator fights — pitting his aides against one another like so many ancient Romans — but only if he can play emperor, presiding over the melee and crowning the victor.\n",
      "“He has become more convinced than ever that he is the ‘chosen one,’ ” said Tony Schwartz, who co-wrote Trump’s 1987 bestseller, “The Art of the Deal,” but has since become critical of the president. “The blend of the megalomania and the insecurity make him ultimately dismissive of anybody’s opinion that doesn’t match his own.” \n",
      "One of Bolton’s fatal sins was believing he could outmaneuver the president and promote the hawkish worldview he has advocated for decades, according to Republicans familiar with the dynamic.\n",
      "“Anybody who thinks they’re smart enough to manipulate Trump, they’re very foolish, and that’s what happens in this city,” said Newt Gingrich, a former House speaker and Trump ally. “People mistake a willingness to eat cheeseburgers and drink Coke with being a buffoon, and he’s not a buffoon.” \n",
      "Trump’s advisers can be arranged into several categories, as one former senior White House official explained. In bucket one, this person said, are those aides whose demise — often via tweet — is all but foregone, the result of the president’s coming to suspect that an adviser thinks he or she is smarter than he is or is trying to undermine him in some way. Rex Tillerson, Trump’s first secretary of state, is a cautionary tale of this category.\n",
      "In bucket two sits the adviser who simply doesn’t gel with the president, ultimately failing to build the personal rapport necessary to survive, this person said. Trump may think this official is a good person who genuinely wants to help implement his policies — but for whatever reason, the adviser just irritates the president. H.R. McMaster, who preceded Bolton as national security adviser, is an example.\n",
      "There is the politically expedient adviser, who brings Trump utility in the short term. Stephen K. Bannon, a former White House chief strategist, was useful early in the administration in helping to channel the hard-right base that lifted Trump to victory. \n",
      "A final category is the shiny new toy — an adviser Trump has recently hired and is excited about, whether because of a tough nickname (James “Mad Dog” Mattis, Trump’s first secretary of defense) or because he or she has vigorously defended Trump on television. \n",
      "Bolton moved through all the buckets before being unceremoniously dismissed.\n",
      "In some ways, Trump has an ecumenical approach, viewing top advisers less as a vaunted Cabinet and more as just one of many sources from which he can seek advice and glean information. He is, for instance, nearly as likely to heed a Fox News host as to heed a senior administration official. \n",
      "This attitude was prevalent during the 2016 presidential campaign, when Trump paid far closer attention to what he consumed in media reports and tips he received in phone calls from friends than from formal presentations by his official policy advisers, most of whom had virtually no face time with the candidate. \n",
      "“He really doesn’t believe in advisers,” said a Republican in close touch with Trump, speaking on the condition of anonymity to share private conversations. “He really just has people around him he asks questions of. John [Bolton] saw his role as advisory, but Trump thinks he’s his own adviser, and I don’t think people fully appreciate this.”\n",
      "Some officials no longer in the administration have offered some glimpses into the challenges of trying to manage and advise Trump.\n",
      "Tillerson, speaking to CBS News’s Bob Schieffer in December, described the president as “pretty undisciplined” and someone who “doesn’t like to read.” Tillerson also described an imperious president who would sometimes suggest ideas that were illegal.\n",
      "People who have known the president over the years stress that, for Trump, everyone is eventually expendable. \n",
      "“When you use people like Kleenex, eventually the Kleenex is filled with snot, and you throw it out,” said “Art of the Deal” co-author Schwartz. “That’s the way Trump treats everyone.”\n",
      "\n"
     ]
    }
   ],
   "source": [
    "\n",
    "#lf = LocalFileHandler()\n",
    "\n",
    "#fp = \"/home/hog/Documents/nltk_practice/ArticleFiles/Raw/2019/9/12/Politics/WashingtonPost/\"\n",
    "#fn = \"http:__washingtonpost_com_politics_youre-a-prop-in-the-back-advisers-struggle-to-obey-trumps-kafkaesque-rules_2019_09_11_35bbf622-d4a9-11e9-9610-fb56c5522e1c_story_html?tid=pm_politics_pop.txt\"\n",
    "\n",
    "#content = lf.get_text_from_location(fn,fp)\n",
    "#cleaned_content = print(soup_cleaner(content))\n",
    "\n",
    "\n"
   ]
  },
  {
   "cell_type": "code",
   "execution_count": null,
   "metadata": {},
   "outputs": [],
   "source": []
  }
 ],
 "metadata": {
  "kernelspec": {
   "display_name": "Python 3",
   "language": "python",
   "name": "python3"
  },
  "language_info": {
   "codemirror_mode": {
    "name": "ipython",
    "version": 3
   },
   "file_extension": ".py",
   "mimetype": "text/x-python",
   "name": "python",
   "nbconvert_exporter": "python",
   "pygments_lexer": "ipython3",
   "version": "3.6.8"
  }
 },
 "nbformat": 4,
 "nbformat_minor": 2
}
