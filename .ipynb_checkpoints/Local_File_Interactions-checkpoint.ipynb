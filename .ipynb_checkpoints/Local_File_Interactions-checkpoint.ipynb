{
 "cells": [
  {
   "cell_type": "code",
   "execution_count": 23,
   "metadata": {},
   "outputs": [
    {
     "name": "stdout",
     "output_type": "stream",
     "text": [
      "Helper Functions Included\n",
      "Helper Functions Included\n",
      "Database_Interactions Included\n"
     ]
    }
   ],
   "source": [
    "import re\n",
    "import string\n",
    "from misc_helper_funcs_and_constants import *\n",
    "from database_interactions import *  \n"
   ]
  },
  {
   "cell_type": "code",
   "execution_count": 5,
   "metadata": {},
   "outputs": [],
   "source": [
    "class LocalFileHandler:\n",
    "\n",
    "    #replace hard coded root with define in file somewhere \n",
    "    def __init__(self):\n",
    "        self.root = \"/home/hog/Documents/nltk_practice/ArticleFiles/\"\n",
    "\n",
    "    #Creates the project specific file struture that is to be appended to the directory root\n",
    "    def generate_organizational_path(self, doc_status,outlet,category,date):\n",
    "        year = date.year\n",
    "        month = date.month\n",
    "        day = date.day\n",
    "        return(doc_status+'/'+str(year)+'/'+str(month)+'/'+str(day))+'/'+category+'/'+outlet+'/'\n",
    "\n",
    "    #splits the path so that we can check each nested directory one at a time\n",
    "    def split_path_string_to_list(self, instring):\n",
    "        dirty_list = instring.split(\"/\")\n",
    "        clean_list = [level for level in dirty_list if '' != level]\n",
    "        return clean_list\n",
    "\n",
    "    #RENAME\n",
    "    #combines the file storage root and the organizational structure  \n",
    "    def find_absolute_file_path(self, structure):\n",
    "        return self.root+structure\n",
    "\n",
    "    #RENAME\n",
    "    #Combines filename with the complete path\n",
    "    def find_absolute_document_location(self, structure,file_name):\n",
    "        dir_structure = self.find_absolute_file_path(structure)\n",
    "        if(structure[-1] != '/'):\n",
    "            structure = structure + '/'\n",
    "            \n",
    "        return dir_structure+file_name\n",
    "    \n",
    "    #finds where the file is for a given url\n",
    "    def get_absolute_document_location(self,url,is_raw=True):\n",
    "        db = DatabaseManager()\n",
    "        date = db.get_date_for_url_db(url)\n",
    "        outlet = db.get_outlet_for_url_db(url)\n",
    "        doc_status = raw if is_raw else clean\n",
    "        \n",
    "        structure = self.generate_organizational_path(doc_status,outlet,politics,date)\n",
    "        \n",
    "        file_name = self.convert_url_to_filename(url)\n",
    "        return self.find_absolute_document_location(structure,file_name)\n",
    "        \n",
    "    #replace hardcoded root\n",
    "    #remove and replace root is dumb \n",
    "    def update_path_structure(self, structure):\n",
    "        if(self.root in structure):\n",
    "            structure = structure.split(self.root)[1]\n",
    "        #REMOVE ROOT HERE\n",
    "        structure_layers = self.split_path_string_to_list(structure)\n",
    "        #if structure_layers[-1] ==\n",
    "        current_verefied_depth = self.root\n",
    "        created = False\n",
    "\n",
    "        for level in structure_layers:\n",
    "            test = current_verefied_depth+'/'+level\n",
    "            if os.path.exists(test):\n",
    "                current_verefied_depth = test\n",
    "            elif \".txt\" in level:  #allows function to take file locations and build path for\n",
    "                pass\n",
    "            else:\n",
    "                os.mkdir(test)\n",
    "                current_verefied_depth = test\n",
    "                created = True\n",
    "        return created\n",
    "\n",
    "    #def correct_location(self):\n",
    "    #    return (os.path.exists(\"article_files\"))\n",
    "    def path_exists(self, inpath):\n",
    "        return (os.path.exists(inpath))\n",
    "\n",
    "    #RENAME TO READ FILE\n",
    "    def get_text_from_location(self, file_location):\n",
    "        if not self.path_exists(file_location):         #change to file exists\n",
    "            print(\"path: \"+ file_location+ \" does not exist\")\n",
    "            return 0\n",
    "        else:    \n",
    "            with open(file_location, 'r') as content_file:\n",
    "                content = content_file.read()\n",
    "                return content\n",
    "\n",
    "    #gets rid of bad characters that would be incompatible with file system. \n",
    "    #there should be better existing solutions that I should look into  \n",
    "    def convert_url_to_filename(self, url):\n",
    "        url = url.replace('.','_')\n",
    "        url = url.replace('/','_')\n",
    "        name = url + '.txt'\n",
    "        return name\n",
    "\n",
    "    #splits the filename and the file path \n",
    "    def split_filename_and_path(self,string):\n",
    "        ls = string.rsplit('/',1)\n",
    "        return (ls[0]+'/',ls[1])\n",
    "    \n",
    "    #writes a string to a given file location under given filename\n",
    "    def write_text_to_location(self, text,filename,filepath):\n",
    "        if not self.path_exists(filepath):\n",
    "            print(\"path: \"+ filepath+ \" does not exist\")\n",
    "            return 0\n",
    "        else:    \n",
    "            f=open(filepath+filename, \"w+\")\n",
    "            f.write(text)\n",
    "            return 1\n",
    "        \n",
    "    #verifies that a given string contains a text file extention\n",
    "    def string_contains_text_file(self, string):\n",
    "        x = re.findall(\".txt+\", string)\n",
    "        if len(x)==0:\n",
    "            return True\n",
    "        else:\n",
    "            return False\n",
    "        \n",
    "    #writes doc to either standard clean or standard raw location \n",
    "    def write_doc_to_location(self,document,destination):\n",
    "        if destination == standard_clean_directory or destination == standard_raw_directory:\n",
    "            if destination == standard_clean_directory:\n",
    "                file_location = self.get_absolute_document_location(document.url,is_raw=False)\n",
    "            else:\n",
    "                file_location = self.get_absolute_document_location(document.url,is_raw=True)\n",
    "            print('file loc: ',file_location)\n",
    "            pair = self.split_filename_and_path(file_location)\n",
    "\n",
    "            filepath = pair[0]\n",
    "            print('filepath: ',filepath)\n",
    "            filename = pair[1]\n",
    "            print('filename: ',filename)\n",
    "            self.update_path_structure(filepath)\n",
    "            self.write_text_to_location(document.text,filename,filepath)\n",
    "            print('writing to: ',filepath,filename)\n",
    "            \n",
    "        else:\n",
    "            print(\"Haven't implemented general purpose writing yet\")\n",
    "        \n"
   ]
  },
  {
   "cell_type": "code",
   "execution_count": null,
   "metadata": {},
   "outputs": [],
   "source": [
    "\n",
    "#        raw_text = scrape_article_for_raw_text(outlet,category,url)        \n",
    "#        filename = lf.convert_url_to_filename(url)\n",
    "        \n",
    "#        lf.update_path_structure(organizational_path) #create file hirarchy, takes only organization as input\n",
    "#        lf.write_text_to_location(raw_text,filename,file_path)\n",
    "        \n",
    "#        file_loc=lf.find_absolute_document_location(organizational_path,filename) #directory structure with file name\n",
    "#        db.set_path_for_file_db(url, file_loc)\n",
    "        \n",
    "\n"
   ]
  },
  {
   "cell_type": "code",
   "execution_count": null,
   "metadata": {},
   "outputs": [],
   "source": []
  },
  {
   "cell_type": "code",
   "execution_count": null,
   "metadata": {},
   "outputs": [],
   "source": []
  },
  {
   "cell_type": "code",
   "execution_count": null,
   "metadata": {},
   "outputs": [],
   "source": []
  },
  {
   "cell_type": "code",
   "execution_count": null,
   "metadata": {},
   "outputs": [],
   "source": []
  },
  {
   "cell_type": "code",
   "execution_count": null,
   "metadata": {},
   "outputs": [],
   "source": []
  },
  {
   "cell_type": "code",
   "execution_count": null,
   "metadata": {},
   "outputs": [],
   "source": []
  },
  {
   "cell_type": "code",
   "execution_count": 1,
   "metadata": {},
   "outputs": [],
   "source": [
    "#def split_filename_and_path(string):\n",
    "#        return string.rsplit('/',1)"
   ]
  },
  {
   "cell_type": "code",
   "execution_count": 2,
   "metadata": {},
   "outputs": [],
   "source": [
    "#print(split_filename_and_path('string/big/guy/bane.txt'))"
   ]
  },
  {
   "cell_type": "code",
   "execution_count": 3,
   "metadata": {},
   "outputs": [],
   "source": [
    "#string_contains_text_file('aix bane.txt')"
   ]
  },
  {
   "cell_type": "code",
   "execution_count": 4,
   "metadata": {},
   "outputs": [],
   "source": [
    "#x = re.findall(\".txt+\", strd)"
   ]
  },
  {
   "cell_type": "code",
   "execution_count": null,
   "metadata": {},
   "outputs": [],
   "source": []
  },
  {
   "cell_type": "code",
   "execution_count": null,
   "metadata": {},
   "outputs": [],
   "source": [
    "#a = generate_file_path(\"Raw\",\"NewYorkTimes\",\"Politics\",2019,8,31)\n",
    "#print(a)"
   ]
  },
  {
   "cell_type": "code",
   "execution_count": null,
   "metadata": {},
   "outputs": [],
   "source": []
  },
  {
   "cell_type": "code",
   "execution_count": null,
   "metadata": {},
   "outputs": [],
   "source": []
  },
  {
   "cell_type": "code",
   "execution_count": 11,
   "metadata": {},
   "outputs": [],
   "source": []
  },
  {
   "cell_type": "code",
   "execution_count": null,
   "metadata": {},
   "outputs": [],
   "source": []
  },
  {
   "cell_type": "code",
   "execution_count": null,
   "metadata": {},
   "outputs": [],
   "source": []
  },
  {
   "cell_type": "code",
   "execution_count": null,
   "metadata": {},
   "outputs": [],
   "source": []
  },
  {
   "cell_type": "code",
   "execution_count": null,
   "metadata": {},
   "outputs": [],
   "source": []
  }
 ],
 "metadata": {
  "kernelspec": {
   "display_name": "Python 3",
   "language": "python",
   "name": "python3"
  },
  "language_info": {
   "codemirror_mode": {
    "name": "ipython",
    "version": 3
   },
   "file_extension": ".py",
   "mimetype": "text/x-python",
   "name": "python",
   "nbconvert_exporter": "python",
   "pygments_lexer": "ipython3",
   "version": "3.6.8"
  }
 },
 "nbformat": 4,
 "nbformat_minor": 2
}
