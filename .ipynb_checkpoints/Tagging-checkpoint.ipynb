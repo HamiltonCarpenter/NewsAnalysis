{
 "cells": [
  {
   "cell_type": "code",
   "execution_count": null,
   "metadata": {},
   "outputs": [],
   "source": [
    "\"https://www.washingtonpost.com/politics/2019/09/05/trumps-insistence-that-his-incorrect-alabama-tweet-was-correct-tips-into-orwellian/?noredirect=on'\n",
    "- trump lying about the path of hurricane dorian\n",
    "\n",
    "\"http://washingtonpost.com/politics/this-is-your-job-not-ours-orourke-campaign-stung-by-twitter-smear-implores-tech-firms-to-erase-disinformation/2019/09/06/f6db3992-d091-11e9-b29b-a528dc82154a_story.html?tid=pm_politics_pop\"\n",
    "- beto asked tech companies to do more about fake news folowing a misleeding viral message identifying a mass shooter as one of his supporters\n",
    "\n",
    "\n",
    "\n",
    "\n",
    "\n",
    "\n",
    "\n",
    "\n",
    "\n",
    "\n",
    "\n"
   ]
  },
  {
   "cell_type": "code",
   "execution_count": null,
   "metadata": {},
   "outputs": [],
   "source": [
    "import urllib3\n",
    "import re\n",
    "import browsercookie\n",
    "from bs4 import BeautifulSoup\n",
    "import bs4\n",
    "import datetime\n",
    "from time import sleep\n",
    "import requests \n",
    "import mysql.connector\n",
    "import os\n",
    "import time\n",
    "import random\n",
    "from urllib3.exceptions import MaxRetryError"
   ]
  },
  {
   "cell_type": "code",
   "execution_count": null,
   "metadata": {},
   "outputs": [],
   "source": []
  },
  {
   "cell_type": "code",
   "execution_count": 6,
   "metadata": {},
   "outputs": [],
   "source": [
    "def scrape_article_for_raw_text(outlet,section,url):\n",
    "    http = urllib3.PoolManager()\n",
    "\n",
    "    response = http.request('GET', url)\n",
    "    soup = BeautifulSoup(response.data)\n",
    "    #print(soup.prettify())\n",
    "    return str(soup)"
   ]
  },
  {
   "cell_type": "code",
   "execution_count": 8,
   "metadata": {},
   "outputs": [],
   "source": [
    "soup = scrape_article_for_raw_text('WashingtonPost',\"Politics\",'http://washingtonpost.com/politics/this-is-your-job-not-ours-orourke-campaign-stung-by-twitter-smear-implores-tech-firms-to-erase-disinformation/2019/09/06/f6db3992-d091-11e9-b29b-a528dc82154a_story.html?tid=pm_politics_pop')\n"
   ]
  },
  {
   "cell_type": "code",
   "execution_count": 9,
   "metadata": {},
   "outputs": [
    {
     "name": "stdout",
     "output_type": "stream",
     "text": [
      "Beto O’Rourke’s presidential campaign sent letters to major technology companies Friday morning imploring them to do more to root out disinformation ahead of the 2020 election.\n",
      "The pointed appeals, from campaign manager Jen O’Malley Dillon, came after a conspiracy theory falsely linking the former Texas congressman to the gunman who killed seven people in two West Texas towns last Saturday was allowed to spread on social media this week, garnering thousands of shares and, according to the campaign, at one point becoming the second-highest-trending Google search query related to O’Rourke in the preceding seven days.\n",
      "Among those who amplified the deceptive claim — which appeared to originate on Twitter with the charge that the gunman was a democratic socialist with an O’Rourke sticker on his truck — were Anthony Shaffer, a former Defense Intelligence Agency officer and a member of an advisory board whose mission is to promote President Trump, and Sebastian Gorka, who worked briefly in the White House.\n",
      "Otherwise, many of the accounts that promoted the falsehoods exhibited botlike characteristics, according to analysts. Nir Hauser, the chief technology officer at VineSight, which uses artificial intelligence to track misinformation, said the original tweet received an initial boost from accounts that behaved like bots, a type of software that can be set up to push messages on social media.\n",
      "That did not sit well with O’Rourke’s campaign.\n",
      "The letters were sent to top executives at Twitter, Facebook and Google, companies that together wield vast power over the online ecosystem, shaping how their users communicate, think and vote.\n",
      "The technology and publishing giants, O’Malley Dillon wrote, are “being used every day to proliferate misinformation, and corporate leadership is failing in its duty to protect our country from these attacks. In 2016, Silicon Valley’s flagrant inaction called into question the very results of our presidential election; and if they don’t do better in 2020, we may lose our democracy forever.”\n",
      "The communications, which were provided to The Washington Post, testify to the sense of alarm among some Democrats that not enough has been done to immunize the country’s information landscape from the sort of attacks perpetrated by Russia in the lead-up to the 2016 election, attacks that prosecutors and intelligence officials say were designed to help elect Trump.\n",
      "And the letters illustrate the campaigns’ increasing willingness to go toe-to-toe with the platforms. In July, Rep. Tulsi Gabbard (Hawaii), another Democratic contender for president, filed a federal lawsuit against Google, claiming that the company denied her free speech when it temporarily suspended her advertising account following the first Democratic debate. The legal claim is believed to mark the first time a presidential candidate has sued a technology giant.\n",
      "O’Rourke’s campaign did not go that far. But it put the tech companies on notice about objections to the way they construe their role as referees of political discourse.\n",
      "“This is your job, not ours,” wrote O’Malley Dillon, who was a deputy campaign manager for President Barack Obama’s reelection effort in 2012.\n",
      "She made several requests, including that the companies do more to take down fake accounts and shed light on which political posts are gaining attention on their platforms and why.\n",
      "Google and Twitter representatives declined to comment on the letters. Facebook didn’t return a request for comment.\n",
      "O’Rourke has not been the only Democratic presidential candidate subject to smears on social media. In June, Donald Trump Jr., the president’s eldest son, shared — and then removed — a tweet falsely claiming that Sen. Kamala D. Harris (Calif.) was not genuinely a black American because her father is Jamaican.\n",
      "According to analysis by VineSight, none of the accounts that simply retweeted the original post about O’Rourke were verified on Twitter. That doesn’t factor in the users who amplified the tweet and added their own commentary, such as Shaffer and Gorka.\n",
      "Joshua Tucker, a professor of politics and co-director of New York University’s Social Media and Political Participation lab, said platforms may run into trouble by seeking to remain politically neutral if the volume of false content disproportionately targets one party, as it did with Democrats before the 2016 election.\n",
      "Removing an equal amount of anti-Democratic and anti-Republican content, he said, “is actually only a nonbiased action if the supply of ‘fake news’ is roughly equal in terms of favoring or disparaging each party.”\n",
      " Tony Romm and Ellen Nakashima contributed to this report. \n"
     ]
    }
   ],
   "source": [
    "soup = BeautifulSoup(soup, \"html.parser\")\n",
    "\n",
    "#extract text\n",
    "text = soup.find_all('p', text=True)\n",
    "for t in text:\n",
    "    print(t.text)"
   ]
  },
  {
   "cell_type": "code",
   "execution_count": null,
   "metadata": {},
   "outputs": [],
   "source": []
  },
  {
   "cell_type": "code",
   "execution_count": null,
   "metadata": {},
   "outputs": [],
   "source": [
    "parsedtext\n",
    "url\n",
    "location of parsed text\n",
    "parsed"
   ]
  }
 ],
 "metadata": {
  "kernelspec": {
   "display_name": "Python 3",
   "language": "python",
   "name": "python3"
  },
  "language_info": {
   "codemirror_mode": {
    "name": "ipython",
    "version": 3
   },
   "file_extension": ".py",
   "mimetype": "text/x-python",
   "name": "python",
   "nbconvert_exporter": "python",
   "pygments_lexer": "ipython3",
   "version": "3.6.8"
  }
 },
 "nbformat": 4,
 "nbformat_minor": 2
}
