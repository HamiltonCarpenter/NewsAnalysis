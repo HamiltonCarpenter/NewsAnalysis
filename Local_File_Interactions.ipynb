{
 "cells": [
  {
   "cell_type": "code",
   "execution_count": 4,
   "metadata": {},
   "outputs": [
    {
     "name": "stdout",
     "output_type": "stream",
     "text": [
      "Helper Functions Included\n"
     ]
    }
   ],
   "source": [
    "\n",
    "%run 'Misc_Helper_Funcs.ipynb'\n"
   ]
  },
  {
   "cell_type": "code",
   "execution_count": 11,
   "metadata": {},
   "outputs": [],
   "source": [
    "class LocalFileHandler:\n",
    "\n",
    "    def __init__(self):\n",
    "        self.root = \"/home/hog/Documents/nltk_practice/ArticleFiles/\"\n",
    "    \n",
    "    def write_file(self, file_path):\n",
    "        pass\n",
    "\n",
    "    def generate_organizational_path(self, doc_status,outlet,category,year,month,day):\n",
    "        return(doc_status+'/'+str(year)+'/'+str(month)+'/'+str(day))+'/'+category+'/'+outlet+'/'\n",
    "\n",
    "    def split_path_string_to_list(self, instring):\n",
    "        dirty_list = instring.split(\"/\")\n",
    "        clean_list = [level for level in dirty_list if '' != level]\n",
    "        return clean_list\n",
    "\n",
    "    def find_absolute_file_path(self, structure):\n",
    "        \n",
    "        return self.root+structure\n",
    "\n",
    "    def find_absolute_document_location(self, structure,file_name):\n",
    "        dir_structure = find_absolute_file_path(structure)\n",
    "        return dir_structure+file_name\n",
    "\n",
    "    #replace hardcoded root\n",
    "    def update_path_structure(self, structure):\n",
    "        structure_layers = split_path_string_to_list(structure)\n",
    "        current_verefied_depth = self.root\n",
    "        created = False\n",
    "\n",
    "        for level in structure_layers:\n",
    "            test = current_verefied_depth+'/'+level\n",
    "            if os.path.exists(test):\n",
    "                current_verefied_depth = test\n",
    "            else:\n",
    "                os.mkdir(test)\n",
    "                current_verefied_depth = test\n",
    "                created = True\n",
    "\n",
    "        return created\n",
    "\n",
    "    def correct_location(self):\n",
    "        return (os.path.exists(\"article_files\"))\n",
    "    def path_exists(self, inpath):\n",
    "        return (os.path.exists(inpath))\n",
    "\n",
    "    def write_text_to_location(self, text,filename,filepath):\n",
    "        if not path_exists(filepath):\n",
    "            print(\"path: \"+ filepath+ \" does not exist\")\n",
    "            return 0\n",
    "        else:    \n",
    "            f=open(filepath+filename, \"w+\")\n",
    "            f.write(text)\n",
    "\n",
    "            return 1\n",
    "\n",
    "    def convert_url_to_filename(self, url):\n",
    "        url = url.replace('.','_')\n",
    "        url = url.replace('/','_')\n",
    "        name = url + '.txt'\n",
    "        return name\n",
    "\n",
    "\n"
   ]
  },
  {
   "cell_type": "code",
   "execution_count": null,
   "metadata": {},
   "outputs": [],
   "source": []
  },
  {
   "cell_type": "code",
   "execution_count": null,
   "metadata": {},
   "outputs": [],
   "source": []
  },
  {
   "cell_type": "code",
   "execution_count": 5,
   "metadata": {},
   "outputs": [
    {
     "name": "stdout",
     "output_type": "stream",
     "text": [
      "hello world\n"
     ]
    }
   ],
   "source": [
    "\n",
    "print(\"hello world\")"
   ]
  },
  {
   "cell_type": "code",
   "execution_count": null,
   "metadata": {},
   "outputs": [],
   "source": [
    "#a = generate_file_path(\"Raw\",\"NewYorkTimes\",\"Politics\",2019,8,31)\n",
    "#print(a)"
   ]
  }
 ],
 "metadata": {
  "kernelspec": {
   "display_name": "Python 3",
   "language": "python",
   "name": "python3"
  },
  "language_info": {
   "codemirror_mode": {
    "name": "ipython",
    "version": 3
   },
   "file_extension": ".py",
   "mimetype": "text/x-python",
   "name": "python",
   "nbconvert_exporter": "python",
   "pygments_lexer": "ipython3",
   "version": "3.6.8"
  }
 },
 "nbformat": 4,
 "nbformat_minor": 2
}
