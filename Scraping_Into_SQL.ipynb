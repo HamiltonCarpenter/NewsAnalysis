{
 "cells": [
  {
   "cell_type": "code",
   "execution_count": 3,
   "metadata": {},
   "outputs": [],
   "source": [
    "import urllib3\n",
    "import re\n",
    "import browsercookie\n",
    "from bs4 import BeautifulSoup\n",
    "import bs4\n",
    "import datetime\n",
    "from time import sleep\n",
    "import requests \n",
    "import mysql.connector\n",
    "import urllib3\n",
    "import re\n",
    "import browsercookie\n",
    "from bs4 import BeautifulSoup\n",
    "import bs4\n",
    "import datetime\n",
    "from time import sleep\n",
    "import requests \n",
    "import mysql.connector\n",
    "import os\n",
    "import time\n",
    "import random\n",
    "from urllib3.exceptions import MaxRetryError\n",
    "#import constant urllib3.exceptions.MaxRetryError()\n",
    "#import constant"
   ]
  },
  {
   "cell_type": "code",
   "execution_count": 2,
   "metadata": {},
   "outputs": [],
   "source": [
    "#https://www.w3schools.com/python/python_mysql_where.asp"
   ]
  },
  {
   "cell_type": "code",
   "execution_count": 2,
   "metadata": {},
   "outputs": [
    {
     "name": "stdout",
     "output_type": "stream",
     "text": [
      "Helper Functions Included\n"
     ]
    }
   ],
   "source": [
    "%run 'Misc_Helper_Funcs.ipynb'"
   ]
  },
  {
   "cell_type": "code",
   "execution_count": null,
   "metadata": {},
   "outputs": [],
   "source": []
  },
  {
   "cell_type": "code",
   "execution_count": 4,
   "metadata": {},
   "outputs": [
    {
     "name": "stdout",
     "output_type": "stream",
     "text": [
      "Scraping_Interactions included\n"
     ]
    }
   ],
   "source": [
    "from database_interactions import *  \n",
    "#%run 'Scraping_RAWtext.ipynb'\n",
    "%run 'Scraping_Interactions.ipynb'\n",
    "from misc_helper_funcs_and_constants import *\n",
    "\n",
    "db = DatabaseManager()\n",
    "\n"
   ]
  },
  {
   "cell_type": "code",
   "execution_count": null,
   "metadata": {},
   "outputs": [],
   "source": [
    "\n",
    "\n",
    "nyt_urls_temp = scrape_section_for_urls(NewYorkTimes,politics,outlets)\n",
    "db.write_urls_to_db(nyt_urls_temp, NewYorkTimes, politics, get_date_string())\n",
    "wapo_urls_temp = scrape_section_for_urls(WashingtonPost,politics,outlets)\n",
    "db.write_urls_to_db(wapo_urls_temp, WashingtonPost, politics, get_date_string())\n"
   ]
  },
  {
   "cell_type": "code",
   "execution_count": null,
   "metadata": {},
   "outputs": [],
   "source": []
  },
  {
   "cell_type": "code",
   "execution_count": null,
   "metadata": {},
   "outputs": [],
   "source": []
  },
  {
   "cell_type": "code",
   "execution_count": 5,
   "metadata": {},
   "outputs": [],
   "source": [
    "get_date_string()"
   ]
  },
  {
   "cell_type": "code",
   "execution_count": null,
   "metadata": {},
   "outputs": [],
   "source": [
    "#Insert record \n",
    "\n",
    "mycursor = mydb.cursor()\n",
    "\n",
    "mycursor.execute(\"SELECT * FROM urls\")\n",
    "\n",
    "myresult = mycursor.fetchall()\n",
    "\n",
    "for x in myresult:\n",
    "  print(x)"
   ]
  },
  {
   "cell_type": "code",
   "execution_count": 4,
   "metadata": {},
   "outputs": [],
   "source": [
    "present_url = 'https://www.nytimes.com/2019/08/19/us/politics/isis-iraq-syria.html'\n",
    "#mycursor.execute(\"SELECT url, date FROM urls\")\n",
    "mycursor.execute(\"SELECT * FROM urls \")\n",
    "\n",
    "myresult = mycursor.fetchall()\n",
    "\n",
    "for x in myresult:\n",
    "  print (x)"
   ]
  },
  {
   "cell_type": "code",
   "execution_count": null,
   "metadata": {},
   "outputs": [],
   "source": [
    "present_url = 'https://www.nytimes.com/2019/08/19/us/politics/isis-iraq-syria.html'\n",
    "#mycursor.execute(\"SELECT url, date FROM urls\")\n",
    "mycursor.execute(\"SELECT * FROM urls \")\n",
    "\n",
    "myresult = mycursor.fetchall()\n",
    "\n",
    "for x in myresult:\n",
    "  print (x)"
   ]
  },
  {
   "cell_type": "code",
   "execution_count": null,
   "metadata": {},
   "outputs": [],
   "source": [
    "\n",
    "mycursor = mydb.cursor(buffered=True)\n",
    "\n",
    "mycursor = cnx.mycursor(buffered=True)\n",
    "sql = \"SELECT * FROM urls\"\n",
    "\n",
    "mycursor.execute(sql)"
   ]
  },
  {
   "cell_type": "code",
   "execution_count": null,
   "metadata": {},
   "outputs": [],
   "source": [
    "mycursor = mydb.cursor()\n",
    "\n",
    "sql = \"UPDATE urls SET date = '08/19/2019' WHERE id = 1\"\n",
    "\n",
    "mycursor.execute(sql)\n",
    "\n",
    "mydb.commit()\n",
    "\n",
    "print(mycursor.rowcount, \"record(s) affected\") "
   ]
  },
  {
   "cell_type": "code",
   "execution_count": null,
   "metadata": {},
   "outputs": [],
   "source": [
    "\n",
    "url = \"https://www.nytimes.com/2019/07/15/opinion/trump-aoc-omar-pelosi.html\"\n",
    "url = \"https://www.nytimes.com/politics\"\n",
    "#url = \"https://www.washingtonpost.com/politics/\"\n",
    "#url = \"https://www.nytimes.com/2019/07/15/opinion/donald-trump-tweet.html\"\n",
    "#url = \"https://www.washingtonpost.com/opinions/george-conway-trump-is-a-racist-president/2019/07/15/b13c0bd4-a740-11e9-9214-246e594de5d5_story.html?noredirect=on&utm_term=.b4619589cfad#click=https://t.co/O5wAbMjbwy\"\n",
    "\n",
    "http = urllib3.PoolManager()\n",
    "\n",
    "response = http.request('GET', url)\n",
    "soup = BeautifulSoup(response.data)\n",
    "#print(soup.prettify())\n",
    "s = soup.find_all('a', href=True)\n",
    "\n",
    "valid_links = []\n",
    "for link in s:\n",
    "    if link['href'].find('politics') != -1 and link['href'].find('.html') != -1 and link['href'].find('/interactive/') == -1 and link['href'].find('/video/') == -1 and link['href'].find('index.html') == -1:\n",
    "        if link['href'] not in valid_links:\n",
    "            valid_links.append(link['href'])\n"
   ]
  },
  {
   "cell_type": "code",
   "execution_count": null,
   "metadata": {},
   "outputs": [],
   "source": [
    "#Insert record \n",
    "\n",
    "for link in valid_links:\n",
    "    sql = \"INSERT INTO urls (url, date, outlet) VALUES (%s, %s, %s)\"\n",
    "    val = (\"https://www.nytimes.com\"+link, \"08/20/2019\",'NewYorkTimes')\n",
    "    mycursor.execute(sql, val)\n",
    "\n",
    "    mydb.commit()\n",
    "\n",
    "    print(mycursor.rowcount, \"record inserted.\")\n",
    "    \n"
   ]
  },
  {
   "cell_type": "code",
   "execution_count": null,
   "metadata": {
    "scrolled": true
   },
   "outputs": [],
   "source": [
    "print(construct_full_url('/2019/08/19/us/politics/elizabeth-warren-native-american.html', 'NewYorkTimes'))"
   ]
  },
  {
   "cell_type": "code",
   "execution_count": null,
   "metadata": {},
   "outputs": [],
   "source": [
    "check_present(construct_full_url('/2019/08/19/us/politics/elizabeth-warren-native-american.html', 'NewYorkTimes'))"
   ]
  },
  {
   "cell_type": "code",
   "execution_count": null,
   "metadata": {},
   "outputs": [],
   "source": [
    "mycursor.execute(\"CREATE TABLE urls (url VARCHAR(1000), date VARCHAR(50), outlet VARCHAR(50))\")\n",
    "mycursor.execute(\"CREATE TABLE raw_articles (url VARCHAR(1000), raw_article MEDIUMTEXT)\")\n",
    "mycursor.execute(\"ALTER TABLE urls ADD COLUMN id INT AUTO_INCREMENT PRIMARY KEY\")\n",
    "mycursor.execute(\"ALTER TABLE raw_articles ADD COLUMN id INT AUTO_INCREMENT PRIMARY KEY\")"
   ]
  },
  {
   "cell_type": "code",
   "execution_count": null,
   "metadata": {},
   "outputs": [],
   "source": [
    "mycursor = mydb.cursor()\n",
    "\n",
    "mycursor.execute(\"SHOW DATABASES\")\n",
    "\n",
    "for x in mycursor:\n",
    "  print(x) "
   ]
  },
  {
   "cell_type": "code",
   "execution_count": null,
   "metadata": {},
   "outputs": [],
   "source": []
  },
  {
   "cell_type": "code",
   "execution_count": null,
   "metadata": {},
   "outputs": [],
   "source": []
  },
  {
   "cell_type": "code",
   "execution_count": null,
   "metadata": {},
   "outputs": [],
   "source": []
  },
  {
   "cell_type": "code",
   "execution_count": null,
   "metadata": {},
   "outputs": [],
   "source": []
  },
  {
   "cell_type": "code",
   "execution_count": null,
   "metadata": {},
   "outputs": [],
   "source": []
  },
  {
   "cell_type": "code",
   "execution_count": null,
   "metadata": {},
   "outputs": [],
   "source": []
  },
  {
   "cell_type": "code",
   "execution_count": null,
   "metadata": {},
   "outputs": [],
   "source": []
  },
  {
   "cell_type": "code",
   "execution_count": 6,
   "metadata": {},
   "outputs": [],
   "source": [
    "#mycursor = mydb.cursor()\n",
    "\n",
    "#sql = \"DELETE FROM urls WHERE outlet = 'NewYorkTimes'\"\n",
    "\n",
    "#mycursor.execute(sql)\n",
    "\n",
    "#mydb.commit()\n",
    "\n",
    "#print(mycursor.rowcount, \"record(s) deleted\")"
   ]
  },
  {
   "cell_type": "code",
   "execution_count": 3,
   "metadata": {},
   "outputs": [],
   "source": []
  },
  {
   "cell_type": "code",
   "execution_count": 4,
   "metadata": {},
   "outputs": [],
   "source": []
  },
  {
   "cell_type": "code",
   "execution_count": 5,
   "metadata": {},
   "outputs": [],
   "source": []
  },
  {
   "cell_type": "code",
   "execution_count": 7,
   "metadata": {},
   "outputs": [],
   "source": []
  },
  {
   "cell_type": "code",
   "execution_count": null,
   "metadata": {},
   "outputs": [],
   "source": []
  },
  {
   "cell_type": "code",
   "execution_count": null,
   "metadata": {},
   "outputs": [],
   "source": []
  },
  {
   "cell_type": "code",
   "execution_count": null,
   "metadata": {},
   "outputs": [],
   "source": []
  },
  {
   "cell_type": "code",
   "execution_count": null,
   "metadata": {},
   "outputs": [],
   "source": []
  },
  {
   "cell_type": "code",
   "execution_count": null,
   "metadata": {},
   "outputs": [],
   "source": []
  },
  {
   "cell_type": "code",
   "execution_count": null,
   "metadata": {},
   "outputs": [],
   "source": []
  }
 ],
 "metadata": {
  "kernelspec": {
   "display_name": "Python 3",
   "language": "python",
   "name": "python3"
  },
  "language_info": {
   "codemirror_mode": {
    "name": "ipython",
    "version": 3
   },
   "file_extension": ".py",
   "mimetype": "text/x-python",
   "name": "python",
   "nbconvert_exporter": "python",
   "pygments_lexer": "ipython3",
   "version": "3.6.8"
  }
 },
 "nbformat": 4,
 "nbformat_minor": 2
}
