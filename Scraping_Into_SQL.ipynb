{
 "cells": [
  {
   "cell_type": "code",
   "execution_count": 2,
   "metadata": {},
   "outputs": [],
   "source": [
    "import urllib3\n",
    "import re\n",
    "import browsercookie\n",
    "from bs4 import BeautifulSoup\n",
    "import bs4\n",
    "import datetime\n",
    "from time import sleep\n",
    "import requests \n",
    "import mysql.connector\n",
    "import urllib3\n",
    "import re\n",
    "import browsercookie\n",
    "from bs4 import BeautifulSoup\n",
    "import bs4\n",
    "import datetime\n",
    "from time import sleep\n",
    "import requests \n",
    "import mysql.connector\n",
    "import os\n",
    "import time\n",
    "import random\n",
    "from urllib3.exceptions import MaxRetryError\n",
    "#import constant urllib3.exceptions.MaxRetryError()\n",
    "#import constant"
   ]
  },
  {
   "cell_type": "code",
   "execution_count": 2,
   "metadata": {},
   "outputs": [],
   "source": [
    "#https://www.w3schools.com/python/python_mysql_where.asp"
   ]
  },
  {
   "cell_type": "code",
   "execution_count": null,
   "metadata": {},
   "outputs": [],
   "source": []
  },
  {
   "cell_type": "code",
   "execution_count": 12,
   "metadata": {},
   "outputs": [
    {
     "data": {
      "text/plain": [
       "9"
      ]
     },
     "execution_count": 12,
     "metadata": {},
     "output_type": "execute_result"
    }
   ],
   "source": []
  },
  {
   "cell_type": "code",
   "execution_count": 2,
   "metadata": {},
   "outputs": [
    {
     "name": "stdout",
     "output_type": "stream",
     "text": [
      "Helper Functions Included\n"
     ]
    }
   ],
   "source": [
    "%run 'Misc_Helper_Funcs.ipynb'"
   ]
  },
  {
   "cell_type": "code",
   "execution_count": null,
   "metadata": {},
   "outputs": [],
   "source": []
  },
  {
   "cell_type": "code",
   "execution_count": 3,
   "metadata": {},
   "outputs": [
    {
     "name": "stdout",
     "output_type": "stream",
     "text": [
      "Helper Functions Included\n",
      "Database_Interactions Included\n",
      "Scraping_Interactions included\n",
      "Helper Functions Included\n",
      "Helper Functions Included\n",
      "Database_Interactions Included\n",
      "Helper Functions Included\n",
      "Helper Functions Included\n",
      "Database_Interactions Included\n",
      "Helper Functions Included\n"
     ]
    }
   ],
   "source": [
    "%run 'Database_Interactions.ipynb'\n",
    "#%run 'Scraping_RAWtext.ipynb'\n",
    "%run 'Scraping_Interactions.ipynb'\n",
    "%run 'Misc_Helper_Funcs.ipynb'\n",
    "\n",
    "db = DatabaseManager()\n",
    "\n"
   ]
  },
  {
   "cell_type": "code",
   "execution_count": null,
   "metadata": {},
   "outputs": [],
   "source": []
  },
  {
   "cell_type": "code",
   "execution_count": null,
   "metadata": {},
   "outputs": [],
   "source": []
  },
  {
   "cell_type": "code",
   "execution_count": null,
   "metadata": {},
   "outputs": [],
   "source": []
  },
  {
   "cell_type": "code",
   "execution_count": 4,
   "metadata": {},
   "outputs": [
    {
     "name": "stdout",
     "output_type": "stream",
     "text": [
      "1 record inserted.\n",
      "1 record inserted.\n",
      "1 record inserted.\n",
      "1 record inserted.\n",
      "1 record inserted.\n",
      "1 record inserted.\n",
      "1 record inserted.\n",
      "1 record inserted.\n",
      "1 record inserted.\n"
     ]
    }
   ],
   "source": [
    "\n",
    "\n",
    "nyt_urls_temp = scrape_section_for_urls(NewYorkTimes,politics,outlets)\n",
    "db.write_urls_to_db(nyt_urls_temp, NewYorkTimes, politics, get_date_string())\n",
    "wapo_urls_temp = scrape_section_for_urls(WashingtonPost,politics,outlets)\n",
    "db.write_urls_to_db(wapo_urls_temp, WashingtonPost, politics, get_date_string())\n"
   ]
  },
  {
   "cell_type": "code",
   "execution_count": null,
   "metadata": {},
   "outputs": [],
   "source": []
  },
  {
   "cell_type": "code",
   "execution_count": 4,
   "metadata": {},
   "outputs": [],
   "source": []
  },
  {
   "cell_type": "code",
   "execution_count": 14,
   "metadata": {},
   "outputs": [
    {
     "data": {
      "text/plain": [
       "'9/2/2019'"
      ]
     },
     "execution_count": 14,
     "metadata": {},
     "output_type": "execute_result"
    }
   ],
   "source": [
    "get_date_string()"
   ]
  },
  {
   "cell_type": "code",
   "execution_count": 22,
   "metadata": {},
   "outputs": [],
   "source": []
  },
  {
   "cell_type": "code",
   "execution_count": 24,
   "metadata": {},
   "outputs": [],
   "source": []
  },
  {
   "cell_type": "code",
   "execution_count": 25,
   "metadata": {},
   "outputs": [],
   "source": []
  },
  {
   "cell_type": "code",
   "execution_count": 26,
   "metadata": {},
   "outputs": [],
   "source": [
    "\n"
   ]
  },
  {
   "cell_type": "code",
   "execution_count": 3,
   "metadata": {
    "scrolled": true
   },
   "outputs": [
    {
     "name": "stdout",
     "output_type": "stream",
     "text": [
      "('https://www.washingtonpost.com/politics/after-two-more-mass-shootings-trump-again-appears-to-back-away-from-gun-background-checks/2019/08/19/ddbf75e4-c2af-11e9-b72f-b31dfaa77212_story.html', '08/20/2019', 'WashingtonPost', 2)\n",
      "('https://www.washingtonpost.com/politics/fact-checker/kamala-harris-uses-fuzzy-math-to-suggest-her-tax-cut-is-paid-for/2019/08/20/c4a4640e-2955-4d0d-a10b-6416e8dbd375_story.html', '08/20/2019', 'WashingtonPost', 3)\n",
      "('https://www.washingtonpost.com/politics/new-hampshires-white-liberals-grapple-with-reparations/2019/08/19/db65f2ec-b52f-11e9-8949-5f36ff92706e_story.html', '08/20/2019', 'WashingtonPost', 4)\n",
      "('https://www.washingtonpost.com/politics/cory-booker-wants-a-baby-bond-for-every-us-child-would-it-work/2019/08/15/35003f16-b88b-11e9-bad6-609f75bfd97f_story.html', '08/20/2019', 'WashingtonPost', 5)\n",
      "('https://www.washingtonpost.com/politics/gillibrand-on-whether-franken-should-make-a-comeback-its-not-my-decision/2019/08/19/41fdb58e-c14d-11e9-a5c6-1e74f7ec4a93_story.html', '08/20/2019', 'WashingtonPost', 6)\n",
      "('https://www.washingtonpost.com/politics/omar-tlaib-blast-israel-for-blocking-their-visit/2019/08/19/6c0ffda6-c2b9-11e9-850e-c0eef81a5224_story.html', '08/20/2019', 'WashingtonPost', 7)\n",
      "('https://www.washingtonpost.com/politics/employment-numbers-in-the-states-key-to-trumps-2016-win-are-flat-this-year/2019/08/19/0cd459aa-67b8-45bf-bdc3-bd3b85f6ff82_story.html', '08/20/2019', 'WashingtonPost', 8)\n",
      "('https://www.washingtonpost.com/local/virginia-politics/what-rep-abigail-spanberger-learned-after-clashing-with-progressives/2019/08/19/ad887a26-a8f9-11e9-a3a6-ab670962db05_story.html', '08/20/2019', 'WashingtonPost', 9)\n",
      "('https://www.washingtonpost.com/politics/mike-pompeo-compared-trump-to-authoritarian-obama-in-2016/2019/08/19/ce2c3736-c29e-11e9-9986-1fb3e4397be4_story.html', '08/20/2019', 'WashingtonPost', 10)\n",
      "('https://www.washingtonpost.com/politics/trump-stumbles-onto-a-new-justification-for-losing-the-popular-vote-its-googles-fault/2019/08/19/f455de3a-496f-40fa-938c-948fa734c8d9_story.html', '08/20/2019', 'WashingtonPost', 11)\n",
      "('https://www.washingtonpost.com/politics/trump-calls-on-fed-to-cut-rates-by-100-basis-points-amid-recession-fears/2019/08/19/289f192a-c292-11e9-9986-1fb3e4397be4_story.html', '08/20/2019', 'WashingtonPost', 12)\n",
      "('https://www.washingtonpost.com/politics/sen-elizabeth-warren-apologizes-for-harm-that-i-have-caused-to-native-americans/2019/08/19/ce74c3c0-c280-11e9-9986-1fb3e4397be4_story.html', '08/20/2019', 'WashingtonPost', 13)\n",
      "('https://www.washingtonpost.com/politics/nearly-a-third-of-americans-were-alive-during-jim-crow/2019/08/19/7cfc0760-2eb0-4d8d-8afb-42d76ef88293_story.html', '08/20/2019', 'WashingtonPost', 14)\n",
      "('https://www.washingtonpost.com/politics/trump-again-undercuts-his-administrations-messy-tariffs-rhetoric/2019/08/19/6ca7752a-0a75-46cb-8b5f-096496acc028_story.html', '08/20/2019', 'WashingtonPost', 15)\n",
      "('https://www.washingtonpost.com/politics/rep-steve-king-says-media-gop-leaders-owe-him-an-apology-after-his-comments-on-rape-and-incest/2019/08/19/48cb0522-c27b-11e9-9986-1fb3e4397be4_story.html', '08/20/2019', 'WashingtonPost', 16)\n",
      "('https://www.washingtonpost.com/politics/commerce-department-will-extend-huawei-reprieve-ross-says/2019/08/19/82a11436-c275-11e9-9986-1fb3e4397be4_story.html', '08/20/2019', 'WashingtonPost', 17)\n",
      "('http://washingtonpost.com/politics/after-two-more-mass-shootings-trump-again-appears-to-back-away-from-gun-background-checks/2019/08/19/ddbf75e4-c2af-11e9-b72f-b31dfaa77212_story.html?tid=pm_politics_pop', '08/20/2019', 'WashingtonPost', 18)\n",
      "('http://washingtonpost.com/politics/omar-tlaib-blast-israel-for-blocking-their-visit/2019/08/19/6c0ffda6-c2b9-11e9-850e-c0eef81a5224_story.html?tid=pm_politics_pop', '08/20/2019', 'WashingtonPost', 19)\n",
      "('https://www.nytimes.com/2019/08/19/us/politics/isis-iraq-syria.html', '08/20/2019', 'NewYorkTimes', 30)\n",
      "('https://www.nytimes.com/2019/08/19/us/politics/trump-gun-laws.html', '08/20/2019', 'NewYorkTimes', 31)\n",
      "('https://www.nytimes.com/2019/08/19/us/politics/hugh-hurwitz-jeffrey-epstein.html', '08/20/2019', 'NewYorkTimes', 32)\n",
      "('https://www.nytimes.com/2019/08/18/us/politics/trump-economy-recession.html', '08/20/2019', 'NewYorkTimes', 33)\n",
      "('https://www.nytimes.com/2019/08/20/us/politics/trump-economy-recession.html', '08/20/2019', 'NewYorkTimes', 34)\n",
      "('https://www.nytimes.com/2019/08/19/us/politics/daca-trump.html', '08/20/2019', 'NewYorkTimes', 35)\n",
      "('https://www.nytimes.com/2019/08/19/us/politics/jill-biden-democrats.html', '08/20/2019', 'NewYorkTimes', 36)\n",
      "('https://www.nytimes.com/2019/08/19/us/politics/google-votes-election-trump.html', '08/20/2019', 'NewYorkTimes', 37)\n",
      "('https://www.nytimes.com/2019/08/19/us/politics/on-politics-womens-poll-supermajority.html', '08/20/2019', 'NewYorkTimes', 38)\n",
      "('https://www.nytimes.com/2019/08/19/us/politics/elizabeth-warren-native-american.html', '08/20/2019', 'NewYorkTimes', 39)\n"
     ]
    }
   ],
   "source": [
    "#Insert record \n",
    "\n",
    "mycursor = mydb.cursor()\n",
    "\n",
    "mycursor.execute(\"SELECT * FROM urls\")\n",
    "\n",
    "myresult = mycursor.fetchall()\n",
    "\n",
    "for x in myresult:\n",
    "  print(x)"
   ]
  },
  {
   "cell_type": "code",
   "execution_count": 67,
   "metadata": {},
   "outputs": [
    {
     "ename": "TypeError",
     "evalue": "fetchall() takes 1 positional argument but 3 were given",
     "output_type": "error",
     "traceback": [
      "\u001b[0;31m---------------------------------------------------------------------------\u001b[0m",
      "\u001b[0;31mTypeError\u001b[0m                                 Traceback (most recent call last)",
      "\u001b[0;32m<ipython-input-67-2b7cab75aefa>\u001b[0m in \u001b[0;36m<module>\u001b[0;34m\u001b[0m\n\u001b[1;32m      5\u001b[0m \u001b[0mval\u001b[0m \u001b[0;34m=\u001b[0m \u001b[0;34m(\u001b[0m\u001b[0;34m\"https://www.nytimes.com/2019/08/19/us/politics/isis-iraq-syria.html\"\u001b[0m\u001b[0;34m)\u001b[0m\u001b[0;34m\u001b[0m\u001b[0;34m\u001b[0m\u001b[0m\n\u001b[1;32m      6\u001b[0m \u001b[0;34m\u001b[0m\u001b[0m\n\u001b[0;32m----> 7\u001b[0;31m \u001b[0mmyresult\u001b[0m \u001b[0;34m=\u001b[0m \u001b[0mmycursor\u001b[0m\u001b[0;34m.\u001b[0m\u001b[0mfetchall\u001b[0m\u001b[0;34m(\u001b[0m\u001b[0msql\u001b[0m\u001b[0;34m,\u001b[0m \u001b[0mval\u001b[0m\u001b[0;34m)\u001b[0m\u001b[0;34m\u001b[0m\u001b[0;34m\u001b[0m\u001b[0m\n\u001b[0m\u001b[1;32m      8\u001b[0m \u001b[0;34m\u001b[0m\u001b[0m\n\u001b[1;32m      9\u001b[0m \u001b[0;32mfor\u001b[0m \u001b[0mx\u001b[0m \u001b[0;32min\u001b[0m \u001b[0mmyresult\u001b[0m\u001b[0;34m:\u001b[0m\u001b[0;34m\u001b[0m\u001b[0;34m\u001b[0m\u001b[0m\n",
      "\u001b[0;31mTypeError\u001b[0m: fetchall() takes 1 positional argument but 3 were given"
     ]
    }
   ],
   "source": []
  },
  {
   "cell_type": "code",
   "execution_count": 7,
   "metadata": {},
   "outputs": [
    {
     "name": "stdout",
     "output_type": "stream",
     "text": [
      "('https://www.washingtonpost.com/politics/after-two-more-mass-shootings-trump-again-appears-to-back-away-from-gun-background-checks/2019/08/19/ddbf75e4-c2af-11e9-b72f-b31dfaa77212_story.html', '08/20/2019', 'WashingtonPost', 2)\n",
      "('https://www.washingtonpost.com/politics/fact-checker/kamala-harris-uses-fuzzy-math-to-suggest-her-tax-cut-is-paid-for/2019/08/20/c4a4640e-2955-4d0d-a10b-6416e8dbd375_story.html', '08/20/2019', 'WashingtonPost', 3)\n",
      "('https://www.washingtonpost.com/politics/new-hampshires-white-liberals-grapple-with-reparations/2019/08/19/db65f2ec-b52f-11e9-8949-5f36ff92706e_story.html', '08/20/2019', 'WashingtonPost', 4)\n",
      "('https://www.washingtonpost.com/politics/cory-booker-wants-a-baby-bond-for-every-us-child-would-it-work/2019/08/15/35003f16-b88b-11e9-bad6-609f75bfd97f_story.html', '08/20/2019', 'WashingtonPost', 5)\n",
      "('https://www.washingtonpost.com/politics/gillibrand-on-whether-franken-should-make-a-comeback-its-not-my-decision/2019/08/19/41fdb58e-c14d-11e9-a5c6-1e74f7ec4a93_story.html', '08/20/2019', 'WashingtonPost', 6)\n",
      "('https://www.washingtonpost.com/politics/omar-tlaib-blast-israel-for-blocking-their-visit/2019/08/19/6c0ffda6-c2b9-11e9-850e-c0eef81a5224_story.html', '08/20/2019', 'WashingtonPost', 7)\n",
      "('https://www.washingtonpost.com/politics/employment-numbers-in-the-states-key-to-trumps-2016-win-are-flat-this-year/2019/08/19/0cd459aa-67b8-45bf-bdc3-bd3b85f6ff82_story.html', '08/20/2019', 'WashingtonPost', 8)\n",
      "('https://www.washingtonpost.com/local/virginia-politics/what-rep-abigail-spanberger-learned-after-clashing-with-progressives/2019/08/19/ad887a26-a8f9-11e9-a3a6-ab670962db05_story.html', '08/20/2019', 'WashingtonPost', 9)\n",
      "('https://www.washingtonpost.com/politics/mike-pompeo-compared-trump-to-authoritarian-obama-in-2016/2019/08/19/ce2c3736-c29e-11e9-9986-1fb3e4397be4_story.html', '08/20/2019', 'WashingtonPost', 10)\n",
      "('https://www.washingtonpost.com/politics/trump-stumbles-onto-a-new-justification-for-losing-the-popular-vote-its-googles-fault/2019/08/19/f455de3a-496f-40fa-938c-948fa734c8d9_story.html', '08/20/2019', 'WashingtonPost', 11)\n",
      "('https://www.washingtonpost.com/politics/trump-calls-on-fed-to-cut-rates-by-100-basis-points-amid-recession-fears/2019/08/19/289f192a-c292-11e9-9986-1fb3e4397be4_story.html', '08/20/2019', 'WashingtonPost', 12)\n",
      "('https://www.washingtonpost.com/politics/sen-elizabeth-warren-apologizes-for-harm-that-i-have-caused-to-native-americans/2019/08/19/ce74c3c0-c280-11e9-9986-1fb3e4397be4_story.html', '08/20/2019', 'WashingtonPost', 13)\n",
      "('https://www.washingtonpost.com/politics/nearly-a-third-of-americans-were-alive-during-jim-crow/2019/08/19/7cfc0760-2eb0-4d8d-8afb-42d76ef88293_story.html', '08/20/2019', 'WashingtonPost', 14)\n",
      "('https://www.washingtonpost.com/politics/trump-again-undercuts-his-administrations-messy-tariffs-rhetoric/2019/08/19/6ca7752a-0a75-46cb-8b5f-096496acc028_story.html', '08/20/2019', 'WashingtonPost', 15)\n",
      "('https://www.washingtonpost.com/politics/rep-steve-king-says-media-gop-leaders-owe-him-an-apology-after-his-comments-on-rape-and-incest/2019/08/19/48cb0522-c27b-11e9-9986-1fb3e4397be4_story.html', '08/20/2019', 'WashingtonPost', 16)\n",
      "('https://www.washingtonpost.com/politics/commerce-department-will-extend-huawei-reprieve-ross-says/2019/08/19/82a11436-c275-11e9-9986-1fb3e4397be4_story.html', '08/20/2019', 'WashingtonPost', 17)\n",
      "('http://washingtonpost.com/politics/after-two-more-mass-shootings-trump-again-appears-to-back-away-from-gun-background-checks/2019/08/19/ddbf75e4-c2af-11e9-b72f-b31dfaa77212_story.html?tid=pm_politics_pop', '08/20/2019', 'WashingtonPost', 18)\n",
      "('http://washingtonpost.com/politics/omar-tlaib-blast-israel-for-blocking-their-visit/2019/08/19/6c0ffda6-c2b9-11e9-850e-c0eef81a5224_story.html?tid=pm_politics_pop', '08/20/2019', 'WashingtonPost', 19)\n",
      "('https://www.nytimes.com/2019/08/19/us/politics/isis-iraq-syria.html', '08/20/2019', 'NewYorkTimes', 30)\n",
      "('https://www.nytimes.com/2019/08/19/us/politics/trump-gun-laws.html', '08/20/2019', 'NewYorkTimes', 31)\n",
      "('https://www.nytimes.com/2019/08/19/us/politics/hugh-hurwitz-jeffrey-epstein.html', '08/20/2019', 'NewYorkTimes', 32)\n",
      "('https://www.nytimes.com/2019/08/18/us/politics/trump-economy-recession.html', '08/20/2019', 'NewYorkTimes', 33)\n",
      "('https://www.nytimes.com/2019/08/20/us/politics/trump-economy-recession.html', '08/20/2019', 'NewYorkTimes', 34)\n",
      "('https://www.nytimes.com/2019/08/19/us/politics/daca-trump.html', '08/20/2019', 'NewYorkTimes', 35)\n",
      "('https://www.nytimes.com/2019/08/19/us/politics/jill-biden-democrats.html', '08/20/2019', 'NewYorkTimes', 36)\n",
      "('https://www.nytimes.com/2019/08/19/us/politics/google-votes-election-trump.html', '08/20/2019', 'NewYorkTimes', 37)\n",
      "('https://www.nytimes.com/2019/08/19/us/politics/on-politics-womens-poll-supermajority.html', '08/20/2019', 'NewYorkTimes', 38)\n",
      "('https://www.nytimes.com/2019/08/19/us/politics/elizabeth-warren-native-american.html', '08/20/2019', 'NewYorkTimes', 39)\n",
      "('https://www.nytimes.com/2019/08/27/us/politics/joe-biden-black-voters.html', '08/27/2019', 'NewYorkTimes', 40)\n",
      "('https://www.nytimes.com/2019/08/27/us/politics/joe-walsh-president-racist-tweets.html', '08/27/2019', 'NewYorkTimes', 41)\n",
      "('https://www.nytimes.com/2019/08/27/us/politics/trump-farmers-china-trade.html', '08/27/2019', 'NewYorkTimes', 42)\n",
      "('https://www.nytimes.com/2019/08/27/us/politics/us-china-trade-talks.html', '08/27/2019', 'NewYorkTimes', 43)\n",
      "('https://www.nytimes.com/2019/08/27/us/politics/steve-king-china-uighurs.html', '08/27/2019', 'NewYorkTimes', 44)\n",
      "('https://www.nytimes.com/2019/08/27/us/politics/russia-senators-ron-johnson-chris-murphy.html', '08/27/2019', 'NewYorkTimes', 45)\n",
      "('https://www.nytimes.com/2019/08/27/us/politics/joe-biden-ad-personal.html', '08/27/2019', 'NewYorkTimes', 46)\n",
      "('https://www.nytimes.com/2019/08/27/us/politics/tom-steyer-debate.html', '08/27/2019', 'NewYorkTimes', 47)\n",
      "('https://www.nytimes.com/2019/08/27/us/politics/trump-trade-war.html', '08/27/2019', 'NewYorkTimes', 48)\n",
      "('https://www.nytimes.com/2019/08/26/us/politics/fact-check-trump-g7.html', '08/27/2019', 'NewYorkTimes', 49)\n",
      "('https://www.nytimes.com/2019/08/26/us/politics/gregory-craig-trial.html', '08/27/2019', 'NewYorkTimes', 50)\n",
      "('https://www.washingtonpost.com/politics/trump-says-no-bedbugs-at-his-doral-resort-but-inspectors-have-found-a-host-of-other-problems/2019/08/27/17b9caf1-3ba6-4b39-a9e5-d485360c4c4c_story.html', '08/27/2019', 'WashingtonPost', 51)\n",
      "('https://www.washingtonpost.com/politics/trump-administration-will-divert-disaster-relief-funds-to-us-mexico-border-enforcement-prompting-outcry-from-democrats/2019/08/27/ba20dd30-c903-11e9-be05-f76ac4ec618c_story.html', '08/27/2019', 'WashingtonPost', 52)\n",
      "('https://www.washingtonpost.com/politics/trumps-promotion-of-doral-for-next-g-7-summit-catches-local-officials-by-surprise/2019/08/27/206b8096-c8ef-11e9-a1fe-ca46e8d573c0_story.html', '08/27/2019', 'WashingtonPost', 53)\n",
      "('https://www.washingtonpost.com/politics/executive-director-of-pro-lgbt-rights-gop-group-is-the-latest-to-leave-after-its-endorsement-of-trump/2019/08/27/a891dc54-c8ea-11e9-a4f3-c081a126de70_story.html', '08/27/2019', 'WashingtonPost', 54)\n",
      "('https://www.washingtonpost.com/politics/sen-ron-johnson-says-he-was-denied-visa-for-congressional-delegation-visit-to-russia/2019/08/26/9b9526b8-c84b-11e9-be05-f76ac4ec618c_story.html', '08/27/2019', 'WashingtonPost', 55)\n",
      "('https://www.washingtonpost.com/politics/six-women-seeking-colorado-senate-seat-ask-dscc-to-reconsider-endorsement-of-hickenlooper/2019/08/27/89feff52-c8e4-11e9-a1fe-ca46e8d573c0_story.html', '08/27/2019', 'WashingtonPost', 56)\n",
      "('https://www.washingtonpost.com/politics/gun-control-advocates-air-ad-to-pressure-mcconnell-and-other-gop-senators/2019/08/27/58690670-c8d2-11e9-a4f3-c081a126de70_story.html', '08/27/2019', 'WashingtonPost', 57)\n",
      "('https://www.washingtonpost.com/politics/trump-advocates-for-putin-at-g-7-summit-in-move-to-soften-russias-pariah-status/2019/08/26/fa28b0f0-c81e-11e9-a1fe-ca46e8d573c0_story.html', '08/27/2019', 'WashingtonPost', 58)\n",
      "('https://www.washingtonpost.com/politics/trump-complains-of-yet-another-big-storm-as-puerto-rico-comes-under-a-hurricane-watch/2019/08/27/34dc5946-c8e6-11e9-a1fe-ca46e8d573c0_story.html', '08/27/2019', 'WashingtonPost', 59)\n",
      "('https://www.washingtonpost.com/politics/trump-pushes-back-on-nasty-rumor-of-bed-bug-infestation-at-his-doral-golf-resort/2019/08/27/6da6146e-c8b5-11e9-a1fe-ca46e8d573c0_story.html', '08/27/2019', 'WashingtonPost', 60)\n",
      "('https://www.washingtonpost.com/politics/biden-knocks-trump-democratic-rivals-in-new-tv-ad-touting-affordable-care-act/2019/08/27/7cd3fd82-c8c1-11e9-a1fe-ca46e8d573c0_story.html', '08/27/2019', 'WashingtonPost', 61)\n",
      "('https://www.washingtonpost.com/politics/the-fix/that-time-sacha-baron-cohen-got-joe-walsh-to-promote-arming-children/2019/08/27/99f056ad-76b1-4f10-83f7-cbbdd6b0a692_story.html', '08/27/2019', 'WashingtonPost', 62)\n",
      "('https://www.washingtonpost.com/politics/fact-checker/fact-checking-president-trumps-g-7-news-conference/2019/08/27/7834a729-d36c-447f-ab02-b0a691add83a_story.html', '08/27/2019', 'WashingtonPost', 63)\n",
      "('https://www.washingtonpost.com/politics/sarah-sanders-unveils-a-campaign-style-website-as-she-eyes-possible-bid-for-governor-of-arkansas/2019/08/26/32a4a8a0-c80e-11e9-a4f3-c081a126de70_story.html', '08/27/2019', 'WashingtonPost', 64)\n",
      "('https://www.washingtonpost.com/politics/investigators-scrutinizing-video-outside-epsteins-cell-find-some-footage-unusable-according-to-people-familiar-with-the-inquiry/2019/08/26/df405636-c827-11e9-a4f3-c081a126de70_story.html', '08/27/2019', 'WashingtonPost', 65)\n",
      "('http://washingtonpost.com/politics/trumps-promotion-of-doral-for-next-g-7-summit-catches-local-officials-by-surprise/2019/08/27/206b8096-c8ef-11e9-a1fe-ca46e8d573c0_story.html?tid=pm_politics_pop', '08/27/2019', 'WashingtonPost', 66)\n",
      "('http://washingtonpost.com/politics/sixty-eight-minutes-in-biarritz-a-glimpse-in-to-trumps-unorthodox-mind/2019/08/26/25a26f60-c823-11e9-8067-196d9f17af68_story.html?tid=pm_politics_pop', '08/27/2019', 'WashingtonPost', 67)\n",
      "('http://washingtonpost.com/politics/investigators-scrutinizing-video-outside-epsteins-cell-find-some-footage-unusable-according-to-people-familiar-with-the-inquiry/2019/08/26/df405636-c827-11e9-a4f3-c081a126de70_story.html?tid=pm_politics_pop', '08/27/2019', 'WashingtonPost', 68)\n",
      "('https://www.nytimes.com/2019/08/28/us/politics/us-iran-cyber-attack.html', '08/28/2019', 'NewYorkTimes', 69)\n",
      "('https://www.nytimes.com/2019/08/28/us/politics/2020-democratic-debates.html', '08/28/2019', 'NewYorkTimes', 70)\n",
      "('https://www.nytimes.com/2019/08/28/us/politics/democratic-polls-quinnipiac-suffolk.html', '08/28/2019', 'NewYorkTimes', 71)\n",
      "('https://www.nytimes.com/2019/08/28/us/politics/trump-border-wall.html', '08/28/2019', 'NewYorkTimes', 72)\n",
      "('https://www.nytimes.com/2019/08/29/us/politics/democratic-presidential-debate.html', '08/28/2019', 'NewYorkTimes', 73)\n",
      "('https://www.nytimes.com/2019/08/29/us/politics/joe-biden-women.html', '08/28/2019', 'NewYorkTimes', 74)\n",
      "('https://www.nytimes.com/2019/08/29/us/politics/next-democratic-debate-candidates.html', '08/28/2019', 'NewYorkTimes', 75)\n",
      "('https://www.nytimes.com/2019/08/28/us/politics/service-members-citizenship.html', '08/28/2019', 'NewYorkTimes', 76)\n",
      "('https://www.nytimes.com/2019/08/28/us/politics/barr-trump-hotel-party.html', '08/28/2019', 'NewYorkTimes', 77)\n",
      "('https://www.nytimes.com/2019/08/28/us/politics/guantanamo-commander-john-ring-fired.html', '08/28/2019', 'NewYorkTimes', 78)\n",
      "('https://www.nytimes.com/2019/08/28/us/politics/kirsten-gillibrand-2020-drop-out.html', '08/28/2019', 'NewYorkTimes', 79)\n",
      "('https://www.washingtonpost.com/politics/rep-ilhan-omar-decries-hate-after-death-threat-in-which-writer-vowed-to-shoot-her-at-minnesota-state-fair/2019/08/28/cf10239a-c9d5-11e9-a1fe-ca46e8d573c0_story.html', '08/28/2019', 'WashingtonPost', 80)\n",
      "('https://www.washingtonpost.com/politics/democrats-alarmed-by-trumps-promise-of-pardons-to-build-border-wall/2019/08/28/8eebe408-c9a2-11e9-a4f3-c081a126de70_story.html', '08/28/2019', 'WashingtonPost', 81)\n",
      "('https://www.washingtonpost.com/politics/the-fix/what-would-it-take-for-republicans-to-deal-with-climate-change/2019/08/29/0daae879-5a37-43fe-aaab-87bbae7c4c03_story.html', '08/28/2019', 'WashingtonPost', 82)\n",
      "('https://www.washingtonpost.com/politics/the-fix/trump-had-better-be-careful-about-hate-tweeting-fox-news/2019/08/29/de5e3b1c-5197-4bdb-aaed-7d26132cd5c7_story.html', '08/28/2019', 'WashingtonPost', 83)\n",
      "('https://www.washingtonpost.com/politics/fact-checker/pompeos-business-deals-with-foreign-government-companies/2019/08/29/76ce2be6-3e16-400e-8a13-5e6e492e81ee_story.html', '08/28/2019', 'WashingtonPost', 84)\n",
      "('https://www.washingtonpost.com/politics/stacey-abrams-says-shed-be-honored-to-be-vice-president/2019/08/28/4daeb2a4-c9ed-11e9-a4f3-c081a126de70_story.html', '08/28/2019', 'WashingtonPost', 85)\n",
      "('https://www.washingtonpost.com/politics/sen-kirsten-gillibrand-ends-her-presidential-bid/2019/08/28/a277fe24-c9b8-11e9-8067-196d9f17af68_story.html', '08/28/2019', 'WashingtonPost', 86)\n",
      "('https://www.washingtonpost.com/politics/house-panel-to-investigate-trumps-desire-to-hold-g-7-at-his-doral-resort/2019/08/28/715d469e-c9ce-11e9-a4f3-c081a126de70_story.html', '08/28/2019', 'WashingtonPost', 87)\n",
      "('https://www.washingtonpost.com/politics/sen-johnny-isakson-says-he-will-resign-at-the-end-of-the-year-citing-health-problems/2019/08/28/4327d4a6-c9a1-11e9-a1fe-ca46e8d573c0_story.html', '08/28/2019', 'WashingtonPost', 88)\n",
      "('https://www.washingtonpost.com/politics/wooden-statue-of-trump-pops-up-in-slovenia-his-wifes-home-country/2019/08/28/9c77e464-c9a7-11e9-a4f3-c081a126de70_story.html', '08/28/2019', 'WashingtonPost', 89)\n",
      "('https://www.washingtonpost.com/politics/mattis-says-he-served-as-long-as-i-could-warns-of-a-leader-not-committed-to-working-with-allies/2019/08/28/f5f3cc34-c988-11e9-be05-f76ac4ec618c_story.html', '08/28/2019', 'WashingtonPost', 90)\n",
      "('https://www.washingtonpost.com/politics/the-fix/how-georgia-could-help-democrats-win-the-senate----but-only-if-they-play-it-perfectly/2019/08/28/1764186c-657c-47c0-90cc-f7b00cd9089f_story.html', '08/28/2019', 'WashingtonPost', 91)\n",
      "('https://www.washingtonpost.com/politics/democrats-appear-headed-for-a-single-presidential-debate-featuring-10-candidates-in-september/2019/08/28/7b87bf5c-c97c-11e9-be05-f76ac4ec618c_story.html', '08/28/2019', 'WashingtonPost', 92)\n",
      "('https://www.washingtonpost.com/politics/the-fix/as-another-storm-approaches-puerto-rico-president-trump-is-still-taking-jabs-at-his-opponents-there/2019/08/28/0dcb3432-5c8d-45d5-9301-7c424bb580d5_story.html', '08/28/2019', 'WashingtonPost', 93)\n",
      "('https://www.washingtonpost.com/politics/monkey-cage/the-uae-is-weakening-its-partnership-with-the-saudis-in-yemen-heres-why-that-matters/2019/08/28/2ea36021-e5f4-4a4e-a136-b007b823a6fd_story.html', '08/28/2019', 'WashingtonPost', 94)\n",
      "('https://www.washingtonpost.com/politics/the-fix/mattiss-unambiguous-warning-on-trump-a-polemicists-role-is-not-sufficient-for-a-leader/2019/08/28/3f279153-35cd-4846-9095-ddfcf40128d3_story.html', '08/28/2019', 'WashingtonPost', 95)\n",
      "('https://www.washingtonpost.com/politics/trump-feuds-with-san-juan-mayor-as-tropical-storm-takes-direct-aim-at-puerto-rico/2019/08/28/6b5170e2-c990-11e9-be05-f76ac4ec618c_story.html', '08/28/2019', 'WashingtonPost', 96)\n",
      "('https://www.washingtonpost.com/politics/trump-accuses-fox-news-of-heavily-promoting-democrats-urges-followers-to-look-for-another-news-outlet/2019/08/28/1adec124-c99e-11e9-be05-f76ac4ec618c_story.html', '08/28/2019', 'WashingtonPost', 97)\n",
      "('http://washingtonpost.com/politics/democrats-alarmed-by-trumps-promise-of-pardons-to-build-border-wall/2019/08/28/8eebe408-c9a2-11e9-a4f3-c081a126de70_story.html?tid=pm_politics_pop', '08/28/2019', 'WashingtonPost', 98)\n",
      "('http://washingtonpost.com/politics/sen-kirsten-gillibrand-ends-her-presidential-bid/2019/08/28/a277fe24-c9b8-11e9-8067-196d9f17af68_story.html?tid=pm_politics_pop', '08/28/2019', 'WashingtonPost', 99)\n",
      "('http://washingtonpost.com/politics/rep-ilhan-omar-decries-hate-after-death-threat-in-which-writer-vowed-to-shoot-her-at-minnesota-state-fair/2019/08/28/cf10239a-c9d5-11e9-a1fe-ca46e8d573c0_story.html?tid=pm_politics_pop', '08/28/2019', 'WashingtonPost', 100)\n"
     ]
    }
   ],
   "source": [
    "present_url = 'https://www.nytimes.com/2019/08/19/us/politics/isis-iraq-syria.html'\n",
    "#mycursor.execute(\"SELECT url, date FROM urls\")\n",
    "mycursor.execute(\"SELECT * FROM urls \")\n",
    "\n",
    "myresult = mycursor.fetchall()\n",
    "\n",
    "for x in myresult:\n",
    "  print (x)"
   ]
  },
  {
   "cell_type": "code",
   "execution_count": 8,
   "metadata": {},
   "outputs": [
    {
     "name": "stdout",
     "output_type": "stream",
     "text": [
      "('https://www.washingtonpost.com/politics/after-two-more-mass-shootings-trump-again-appears-to-back-away-from-gun-background-checks/2019/08/19/ddbf75e4-c2af-11e9-b72f-b31dfaa77212_story.html', '08/20/2019', 'WashingtonPost', 2)\n",
      "('https://www.washingtonpost.com/politics/fact-checker/kamala-harris-uses-fuzzy-math-to-suggest-her-tax-cut-is-paid-for/2019/08/20/c4a4640e-2955-4d0d-a10b-6416e8dbd375_story.html', '08/20/2019', 'WashingtonPost', 3)\n",
      "('https://www.washingtonpost.com/politics/new-hampshires-white-liberals-grapple-with-reparations/2019/08/19/db65f2ec-b52f-11e9-8949-5f36ff92706e_story.html', '08/20/2019', 'WashingtonPost', 4)\n",
      "('https://www.washingtonpost.com/politics/cory-booker-wants-a-baby-bond-for-every-us-child-would-it-work/2019/08/15/35003f16-b88b-11e9-bad6-609f75bfd97f_story.html', '08/20/2019', 'WashingtonPost', 5)\n",
      "('https://www.washingtonpost.com/politics/gillibrand-on-whether-franken-should-make-a-comeback-its-not-my-decision/2019/08/19/41fdb58e-c14d-11e9-a5c6-1e74f7ec4a93_story.html', '08/20/2019', 'WashingtonPost', 6)\n",
      "('https://www.washingtonpost.com/politics/omar-tlaib-blast-israel-for-blocking-their-visit/2019/08/19/6c0ffda6-c2b9-11e9-850e-c0eef81a5224_story.html', '08/20/2019', 'WashingtonPost', 7)\n",
      "('https://www.washingtonpost.com/politics/employment-numbers-in-the-states-key-to-trumps-2016-win-are-flat-this-year/2019/08/19/0cd459aa-67b8-45bf-bdc3-bd3b85f6ff82_story.html', '08/20/2019', 'WashingtonPost', 8)\n",
      "('https://www.washingtonpost.com/local/virginia-politics/what-rep-abigail-spanberger-learned-after-clashing-with-progressives/2019/08/19/ad887a26-a8f9-11e9-a3a6-ab670962db05_story.html', '08/20/2019', 'WashingtonPost', 9)\n",
      "('https://www.washingtonpost.com/politics/mike-pompeo-compared-trump-to-authoritarian-obama-in-2016/2019/08/19/ce2c3736-c29e-11e9-9986-1fb3e4397be4_story.html', '08/20/2019', 'WashingtonPost', 10)\n",
      "('https://www.washingtonpost.com/politics/trump-stumbles-onto-a-new-justification-for-losing-the-popular-vote-its-googles-fault/2019/08/19/f455de3a-496f-40fa-938c-948fa734c8d9_story.html', '08/20/2019', 'WashingtonPost', 11)\n",
      "('https://www.washingtonpost.com/politics/trump-calls-on-fed-to-cut-rates-by-100-basis-points-amid-recession-fears/2019/08/19/289f192a-c292-11e9-9986-1fb3e4397be4_story.html', '08/20/2019', 'WashingtonPost', 12)\n",
      "('https://www.washingtonpost.com/politics/sen-elizabeth-warren-apologizes-for-harm-that-i-have-caused-to-native-americans/2019/08/19/ce74c3c0-c280-11e9-9986-1fb3e4397be4_story.html', '08/20/2019', 'WashingtonPost', 13)\n",
      "('https://www.washingtonpost.com/politics/nearly-a-third-of-americans-were-alive-during-jim-crow/2019/08/19/7cfc0760-2eb0-4d8d-8afb-42d76ef88293_story.html', '08/20/2019', 'WashingtonPost', 14)\n",
      "('https://www.washingtonpost.com/politics/trump-again-undercuts-his-administrations-messy-tariffs-rhetoric/2019/08/19/6ca7752a-0a75-46cb-8b5f-096496acc028_story.html', '08/20/2019', 'WashingtonPost', 15)\n",
      "('https://www.washingtonpost.com/politics/rep-steve-king-says-media-gop-leaders-owe-him-an-apology-after-his-comments-on-rape-and-incest/2019/08/19/48cb0522-c27b-11e9-9986-1fb3e4397be4_story.html', '08/20/2019', 'WashingtonPost', 16)\n",
      "('https://www.washingtonpost.com/politics/commerce-department-will-extend-huawei-reprieve-ross-says/2019/08/19/82a11436-c275-11e9-9986-1fb3e4397be4_story.html', '08/20/2019', 'WashingtonPost', 17)\n",
      "('http://washingtonpost.com/politics/after-two-more-mass-shootings-trump-again-appears-to-back-away-from-gun-background-checks/2019/08/19/ddbf75e4-c2af-11e9-b72f-b31dfaa77212_story.html?tid=pm_politics_pop', '08/20/2019', 'WashingtonPost', 18)\n",
      "('http://washingtonpost.com/politics/omar-tlaib-blast-israel-for-blocking-their-visit/2019/08/19/6c0ffda6-c2b9-11e9-850e-c0eef81a5224_story.html?tid=pm_politics_pop', '08/20/2019', 'WashingtonPost', 19)\n",
      "('https://www.nytimes.com/2019/08/19/us/politics/isis-iraq-syria.html', '08/20/2019', 'NewYorkTimes', 30)\n",
      "('https://www.nytimes.com/2019/08/19/us/politics/trump-gun-laws.html', '08/20/2019', 'NewYorkTimes', 31)\n",
      "('https://www.nytimes.com/2019/08/19/us/politics/hugh-hurwitz-jeffrey-epstein.html', '08/20/2019', 'NewYorkTimes', 32)\n",
      "('https://www.nytimes.com/2019/08/18/us/politics/trump-economy-recession.html', '08/20/2019', 'NewYorkTimes', 33)\n",
      "('https://www.nytimes.com/2019/08/20/us/politics/trump-economy-recession.html', '08/20/2019', 'NewYorkTimes', 34)\n",
      "('https://www.nytimes.com/2019/08/19/us/politics/daca-trump.html', '08/20/2019', 'NewYorkTimes', 35)\n",
      "('https://www.nytimes.com/2019/08/19/us/politics/jill-biden-democrats.html', '08/20/2019', 'NewYorkTimes', 36)\n",
      "('https://www.nytimes.com/2019/08/19/us/politics/google-votes-election-trump.html', '08/20/2019', 'NewYorkTimes', 37)\n",
      "('https://www.nytimes.com/2019/08/19/us/politics/on-politics-womens-poll-supermajority.html', '08/20/2019', 'NewYorkTimes', 38)\n",
      "('https://www.nytimes.com/2019/08/19/us/politics/elizabeth-warren-native-american.html', '08/20/2019', 'NewYorkTimes', 39)\n",
      "('https://www.nytimes.com/2019/08/27/us/politics/joe-biden-black-voters.html', '08/27/2019', 'NewYorkTimes', 40)\n",
      "('https://www.nytimes.com/2019/08/27/us/politics/joe-walsh-president-racist-tweets.html', '08/27/2019', 'NewYorkTimes', 41)\n",
      "('https://www.nytimes.com/2019/08/27/us/politics/trump-farmers-china-trade.html', '08/27/2019', 'NewYorkTimes', 42)\n",
      "('https://www.nytimes.com/2019/08/27/us/politics/us-china-trade-talks.html', '08/27/2019', 'NewYorkTimes', 43)\n",
      "('https://www.nytimes.com/2019/08/27/us/politics/steve-king-china-uighurs.html', '08/27/2019', 'NewYorkTimes', 44)\n",
      "('https://www.nytimes.com/2019/08/27/us/politics/russia-senators-ron-johnson-chris-murphy.html', '08/27/2019', 'NewYorkTimes', 45)\n",
      "('https://www.nytimes.com/2019/08/27/us/politics/joe-biden-ad-personal.html', '08/27/2019', 'NewYorkTimes', 46)\n",
      "('https://www.nytimes.com/2019/08/27/us/politics/tom-steyer-debate.html', '08/27/2019', 'NewYorkTimes', 47)\n",
      "('https://www.nytimes.com/2019/08/27/us/politics/trump-trade-war.html', '08/27/2019', 'NewYorkTimes', 48)\n",
      "('https://www.nytimes.com/2019/08/26/us/politics/fact-check-trump-g7.html', '08/27/2019', 'NewYorkTimes', 49)\n",
      "('https://www.nytimes.com/2019/08/26/us/politics/gregory-craig-trial.html', '08/27/2019', 'NewYorkTimes', 50)\n",
      "('https://www.washingtonpost.com/politics/trump-says-no-bedbugs-at-his-doral-resort-but-inspectors-have-found-a-host-of-other-problems/2019/08/27/17b9caf1-3ba6-4b39-a9e5-d485360c4c4c_story.html', '08/27/2019', 'WashingtonPost', 51)\n",
      "('https://www.washingtonpost.com/politics/trump-administration-will-divert-disaster-relief-funds-to-us-mexico-border-enforcement-prompting-outcry-from-democrats/2019/08/27/ba20dd30-c903-11e9-be05-f76ac4ec618c_story.html', '08/27/2019', 'WashingtonPost', 52)\n",
      "('https://www.washingtonpost.com/politics/trumps-promotion-of-doral-for-next-g-7-summit-catches-local-officials-by-surprise/2019/08/27/206b8096-c8ef-11e9-a1fe-ca46e8d573c0_story.html', '08/27/2019', 'WashingtonPost', 53)\n",
      "('https://www.washingtonpost.com/politics/executive-director-of-pro-lgbt-rights-gop-group-is-the-latest-to-leave-after-its-endorsement-of-trump/2019/08/27/a891dc54-c8ea-11e9-a4f3-c081a126de70_story.html', '08/27/2019', 'WashingtonPost', 54)\n",
      "('https://www.washingtonpost.com/politics/sen-ron-johnson-says-he-was-denied-visa-for-congressional-delegation-visit-to-russia/2019/08/26/9b9526b8-c84b-11e9-be05-f76ac4ec618c_story.html', '08/27/2019', 'WashingtonPost', 55)\n",
      "('https://www.washingtonpost.com/politics/six-women-seeking-colorado-senate-seat-ask-dscc-to-reconsider-endorsement-of-hickenlooper/2019/08/27/89feff52-c8e4-11e9-a1fe-ca46e8d573c0_story.html', '08/27/2019', 'WashingtonPost', 56)\n",
      "('https://www.washingtonpost.com/politics/gun-control-advocates-air-ad-to-pressure-mcconnell-and-other-gop-senators/2019/08/27/58690670-c8d2-11e9-a4f3-c081a126de70_story.html', '08/27/2019', 'WashingtonPost', 57)\n",
      "('https://www.washingtonpost.com/politics/trump-advocates-for-putin-at-g-7-summit-in-move-to-soften-russias-pariah-status/2019/08/26/fa28b0f0-c81e-11e9-a1fe-ca46e8d573c0_story.html', '08/27/2019', 'WashingtonPost', 58)\n",
      "('https://www.washingtonpost.com/politics/trump-complains-of-yet-another-big-storm-as-puerto-rico-comes-under-a-hurricane-watch/2019/08/27/34dc5946-c8e6-11e9-a1fe-ca46e8d573c0_story.html', '08/27/2019', 'WashingtonPost', 59)\n",
      "('https://www.washingtonpost.com/politics/trump-pushes-back-on-nasty-rumor-of-bed-bug-infestation-at-his-doral-golf-resort/2019/08/27/6da6146e-c8b5-11e9-a1fe-ca46e8d573c0_story.html', '08/27/2019', 'WashingtonPost', 60)\n",
      "('https://www.washingtonpost.com/politics/biden-knocks-trump-democratic-rivals-in-new-tv-ad-touting-affordable-care-act/2019/08/27/7cd3fd82-c8c1-11e9-a1fe-ca46e8d573c0_story.html', '08/27/2019', 'WashingtonPost', 61)\n",
      "('https://www.washingtonpost.com/politics/the-fix/that-time-sacha-baron-cohen-got-joe-walsh-to-promote-arming-children/2019/08/27/99f056ad-76b1-4f10-83f7-cbbdd6b0a692_story.html', '08/27/2019', 'WashingtonPost', 62)\n",
      "('https://www.washingtonpost.com/politics/fact-checker/fact-checking-president-trumps-g-7-news-conference/2019/08/27/7834a729-d36c-447f-ab02-b0a691add83a_story.html', '08/27/2019', 'WashingtonPost', 63)\n",
      "('https://www.washingtonpost.com/politics/sarah-sanders-unveils-a-campaign-style-website-as-she-eyes-possible-bid-for-governor-of-arkansas/2019/08/26/32a4a8a0-c80e-11e9-a4f3-c081a126de70_story.html', '08/27/2019', 'WashingtonPost', 64)\n",
      "('https://www.washingtonpost.com/politics/investigators-scrutinizing-video-outside-epsteins-cell-find-some-footage-unusable-according-to-people-familiar-with-the-inquiry/2019/08/26/df405636-c827-11e9-a4f3-c081a126de70_story.html', '08/27/2019', 'WashingtonPost', 65)\n",
      "('http://washingtonpost.com/politics/trumps-promotion-of-doral-for-next-g-7-summit-catches-local-officials-by-surprise/2019/08/27/206b8096-c8ef-11e9-a1fe-ca46e8d573c0_story.html?tid=pm_politics_pop', '08/27/2019', 'WashingtonPost', 66)\n",
      "('http://washingtonpost.com/politics/sixty-eight-minutes-in-biarritz-a-glimpse-in-to-trumps-unorthodox-mind/2019/08/26/25a26f60-c823-11e9-8067-196d9f17af68_story.html?tid=pm_politics_pop', '08/27/2019', 'WashingtonPost', 67)\n",
      "('http://washingtonpost.com/politics/investigators-scrutinizing-video-outside-epsteins-cell-find-some-footage-unusable-according-to-people-familiar-with-the-inquiry/2019/08/26/df405636-c827-11e9-a4f3-c081a126de70_story.html?tid=pm_politics_pop', '08/27/2019', 'WashingtonPost', 68)\n",
      "('https://www.nytimes.com/2019/08/28/us/politics/us-iran-cyber-attack.html', '08/28/2019', 'NewYorkTimes', 69)\n",
      "('https://www.nytimes.com/2019/08/28/us/politics/2020-democratic-debates.html', '08/28/2019', 'NewYorkTimes', 70)\n",
      "('https://www.nytimes.com/2019/08/28/us/politics/democratic-polls-quinnipiac-suffolk.html', '08/28/2019', 'NewYorkTimes', 71)\n",
      "('https://www.nytimes.com/2019/08/28/us/politics/trump-border-wall.html', '08/28/2019', 'NewYorkTimes', 72)\n",
      "('https://www.nytimes.com/2019/08/29/us/politics/democratic-presidential-debate.html', '08/28/2019', 'NewYorkTimes', 73)\n",
      "('https://www.nytimes.com/2019/08/29/us/politics/joe-biden-women.html', '08/28/2019', 'NewYorkTimes', 74)\n",
      "('https://www.nytimes.com/2019/08/29/us/politics/next-democratic-debate-candidates.html', '08/28/2019', 'NewYorkTimes', 75)\n",
      "('https://www.nytimes.com/2019/08/28/us/politics/service-members-citizenship.html', '08/28/2019', 'NewYorkTimes', 76)\n",
      "('https://www.nytimes.com/2019/08/28/us/politics/barr-trump-hotel-party.html', '08/28/2019', 'NewYorkTimes', 77)\n",
      "('https://www.nytimes.com/2019/08/28/us/politics/guantanamo-commander-john-ring-fired.html', '08/28/2019', 'NewYorkTimes', 78)\n",
      "('https://www.nytimes.com/2019/08/28/us/politics/kirsten-gillibrand-2020-drop-out.html', '08/28/2019', 'NewYorkTimes', 79)\n",
      "('https://www.washingtonpost.com/politics/rep-ilhan-omar-decries-hate-after-death-threat-in-which-writer-vowed-to-shoot-her-at-minnesota-state-fair/2019/08/28/cf10239a-c9d5-11e9-a1fe-ca46e8d573c0_story.html', '08/28/2019', 'WashingtonPost', 80)\n",
      "('https://www.washingtonpost.com/politics/democrats-alarmed-by-trumps-promise-of-pardons-to-build-border-wall/2019/08/28/8eebe408-c9a2-11e9-a4f3-c081a126de70_story.html', '08/28/2019', 'WashingtonPost', 81)\n",
      "('https://www.washingtonpost.com/politics/the-fix/what-would-it-take-for-republicans-to-deal-with-climate-change/2019/08/29/0daae879-5a37-43fe-aaab-87bbae7c4c03_story.html', '08/28/2019', 'WashingtonPost', 82)\n",
      "('https://www.washingtonpost.com/politics/the-fix/trump-had-better-be-careful-about-hate-tweeting-fox-news/2019/08/29/de5e3b1c-5197-4bdb-aaed-7d26132cd5c7_story.html', '08/28/2019', 'WashingtonPost', 83)\n",
      "('https://www.washingtonpost.com/politics/fact-checker/pompeos-business-deals-with-foreign-government-companies/2019/08/29/76ce2be6-3e16-400e-8a13-5e6e492e81ee_story.html', '08/28/2019', 'WashingtonPost', 84)\n",
      "('https://www.washingtonpost.com/politics/stacey-abrams-says-shed-be-honored-to-be-vice-president/2019/08/28/4daeb2a4-c9ed-11e9-a4f3-c081a126de70_story.html', '08/28/2019', 'WashingtonPost', 85)\n",
      "('https://www.washingtonpost.com/politics/sen-kirsten-gillibrand-ends-her-presidential-bid/2019/08/28/a277fe24-c9b8-11e9-8067-196d9f17af68_story.html', '08/28/2019', 'WashingtonPost', 86)\n",
      "('https://www.washingtonpost.com/politics/house-panel-to-investigate-trumps-desire-to-hold-g-7-at-his-doral-resort/2019/08/28/715d469e-c9ce-11e9-a4f3-c081a126de70_story.html', '08/28/2019', 'WashingtonPost', 87)\n",
      "('https://www.washingtonpost.com/politics/sen-johnny-isakson-says-he-will-resign-at-the-end-of-the-year-citing-health-problems/2019/08/28/4327d4a6-c9a1-11e9-a1fe-ca46e8d573c0_story.html', '08/28/2019', 'WashingtonPost', 88)\n",
      "('https://www.washingtonpost.com/politics/wooden-statue-of-trump-pops-up-in-slovenia-his-wifes-home-country/2019/08/28/9c77e464-c9a7-11e9-a4f3-c081a126de70_story.html', '08/28/2019', 'WashingtonPost', 89)\n",
      "('https://www.washingtonpost.com/politics/mattis-says-he-served-as-long-as-i-could-warns-of-a-leader-not-committed-to-working-with-allies/2019/08/28/f5f3cc34-c988-11e9-be05-f76ac4ec618c_story.html', '08/28/2019', 'WashingtonPost', 90)\n",
      "('https://www.washingtonpost.com/politics/the-fix/how-georgia-could-help-democrats-win-the-senate----but-only-if-they-play-it-perfectly/2019/08/28/1764186c-657c-47c0-90cc-f7b00cd9089f_story.html', '08/28/2019', 'WashingtonPost', 91)\n",
      "('https://www.washingtonpost.com/politics/democrats-appear-headed-for-a-single-presidential-debate-featuring-10-candidates-in-september/2019/08/28/7b87bf5c-c97c-11e9-be05-f76ac4ec618c_story.html', '08/28/2019', 'WashingtonPost', 92)\n",
      "('https://www.washingtonpost.com/politics/the-fix/as-another-storm-approaches-puerto-rico-president-trump-is-still-taking-jabs-at-his-opponents-there/2019/08/28/0dcb3432-5c8d-45d5-9301-7c424bb580d5_story.html', '08/28/2019', 'WashingtonPost', 93)\n",
      "('https://www.washingtonpost.com/politics/monkey-cage/the-uae-is-weakening-its-partnership-with-the-saudis-in-yemen-heres-why-that-matters/2019/08/28/2ea36021-e5f4-4a4e-a136-b007b823a6fd_story.html', '08/28/2019', 'WashingtonPost', 94)\n",
      "('https://www.washingtonpost.com/politics/the-fix/mattiss-unambiguous-warning-on-trump-a-polemicists-role-is-not-sufficient-for-a-leader/2019/08/28/3f279153-35cd-4846-9095-ddfcf40128d3_story.html', '08/28/2019', 'WashingtonPost', 95)\n",
      "('https://www.washingtonpost.com/politics/trump-feuds-with-san-juan-mayor-as-tropical-storm-takes-direct-aim-at-puerto-rico/2019/08/28/6b5170e2-c990-11e9-be05-f76ac4ec618c_story.html', '08/28/2019', 'WashingtonPost', 96)\n",
      "('https://www.washingtonpost.com/politics/trump-accuses-fox-news-of-heavily-promoting-democrats-urges-followers-to-look-for-another-news-outlet/2019/08/28/1adec124-c99e-11e9-be05-f76ac4ec618c_story.html', '08/28/2019', 'WashingtonPost', 97)\n",
      "('http://washingtonpost.com/politics/democrats-alarmed-by-trumps-promise-of-pardons-to-build-border-wall/2019/08/28/8eebe408-c9a2-11e9-a4f3-c081a126de70_story.html?tid=pm_politics_pop', '08/28/2019', 'WashingtonPost', 98)\n",
      "('http://washingtonpost.com/politics/sen-kirsten-gillibrand-ends-her-presidential-bid/2019/08/28/a277fe24-c9b8-11e9-8067-196d9f17af68_story.html?tid=pm_politics_pop', '08/28/2019', 'WashingtonPost', 99)\n",
      "('http://washingtonpost.com/politics/rep-ilhan-omar-decries-hate-after-death-threat-in-which-writer-vowed-to-shoot-her-at-minnesota-state-fair/2019/08/28/cf10239a-c9d5-11e9-a1fe-ca46e8d573c0_story.html?tid=pm_politics_pop', '08/28/2019', 'WashingtonPost', 100)\n"
     ]
    }
   ],
   "source": [
    "present_url = 'https://www.nytimes.com/2019/08/19/us/politics/isis-iraq-syria.html'\n",
    "#mycursor.execute(\"SELECT url, date FROM urls\")\n",
    "mycursor.execute(\"SELECT * FROM urls \")\n",
    "\n",
    "myresult = mycursor.fetchall()\n",
    "\n",
    "for x in myresult:\n",
    "  print (x)"
   ]
  },
  {
   "cell_type": "code",
   "execution_count": 25,
   "metadata": {},
   "outputs": [
    {
     "ename": "NameError",
     "evalue": "name 'cnx' is not defined",
     "output_type": "error",
     "traceback": [
      "\u001b[0;31m---------------------------------------------------------------------------\u001b[0m",
      "\u001b[0;31mNameError\u001b[0m                                 Traceback (most recent call last)",
      "\u001b[0;32m<ipython-input-25-5550dbcc156e>\u001b[0m in \u001b[0;36m<module>\u001b[0;34m\u001b[0m\n\u001b[1;32m      1\u001b[0m \u001b[0mmycursor\u001b[0m \u001b[0;34m=\u001b[0m \u001b[0mmydb\u001b[0m\u001b[0;34m.\u001b[0m\u001b[0mcursor\u001b[0m\u001b[0;34m(\u001b[0m\u001b[0;34m)\u001b[0m\u001b[0;34m\u001b[0m\u001b[0;34m\u001b[0m\u001b[0m\n\u001b[0;32m----> 2\u001b[0;31m \u001b[0mmycursor\u001b[0m \u001b[0;34m=\u001b[0m \u001b[0mcnx\u001b[0m\u001b[0;34m.\u001b[0m\u001b[0mmycursor\u001b[0m\u001b[0;34m(\u001b[0m\u001b[0mbuffered\u001b[0m\u001b[0;34m=\u001b[0m\u001b[0;32mTrue\u001b[0m\u001b[0;34m)\u001b[0m\u001b[0;34m\u001b[0m\u001b[0;34m\u001b[0m\u001b[0m\n\u001b[0m\u001b[1;32m      3\u001b[0m \u001b[0msql\u001b[0m \u001b[0;34m=\u001b[0m \u001b[0;34m\"SELECT * FROM urls\"\u001b[0m\u001b[0;34m\u001b[0m\u001b[0;34m\u001b[0m\u001b[0m\n\u001b[1;32m      4\u001b[0m \u001b[0;34m\u001b[0m\u001b[0m\n\u001b[1;32m      5\u001b[0m \u001b[0mmycursor\u001b[0m\u001b[0;34m.\u001b[0m\u001b[0mexecute\u001b[0m\u001b[0;34m(\u001b[0m\u001b[0msql\u001b[0m\u001b[0;34m)\u001b[0m\u001b[0;34m\u001b[0m\u001b[0;34m\u001b[0m\u001b[0m\n",
      "\u001b[0;31mNameError\u001b[0m: name 'cnx' is not defined"
     ]
    }
   ],
   "source": [
    "\n",
    "mycursor = mydb.cursor(buffered=True)\n",
    "\n",
    "mycursor = cnx.mycursor(buffered=True)\n",
    "sql = \"SELECT * FROM urls\"\n",
    "\n",
    "mycursor.execute(sql)"
   ]
  },
  {
   "cell_type": "code",
   "execution_count": null,
   "metadata": {},
   "outputs": [],
   "source": []
  },
  {
   "cell_type": "code",
   "execution_count": 18,
   "metadata": {},
   "outputs": [
    {
     "name": "stdout",
     "output_type": "stream",
     "text": [
      "0 record(s) affected\n"
     ]
    }
   ],
   "source": [
    "mycursor = mydb.cursor()\n",
    "\n",
    "sql = \"UPDATE urls SET date = '08/19/2019' WHERE id = 1\"\n",
    "\n",
    "mycursor.execute(sql)\n",
    "\n",
    "mydb.commit()\n",
    "\n",
    "print(mycursor.rowcount, \"record(s) affected\") "
   ]
  },
  {
   "cell_type": "code",
   "execution_count": 71,
   "metadata": {},
   "outputs": [],
   "source": [
    "\n",
    "url = \"https://www.nytimes.com/2019/07/15/opinion/trump-aoc-omar-pelosi.html\"\n",
    "url = \"https://www.nytimes.com/politics\"\n",
    "#url = \"https://www.washingtonpost.com/politics/\"\n",
    "#url = \"https://www.nytimes.com/2019/07/15/opinion/donald-trump-tweet.html\"\n",
    "#url = \"https://www.washingtonpost.com/opinions/george-conway-trump-is-a-racist-president/2019/07/15/b13c0bd4-a740-11e9-9214-246e594de5d5_story.html?noredirect=on&utm_term=.b4619589cfad#click=https://t.co/O5wAbMjbwy\"\n",
    "\n",
    "http = urllib3.PoolManager()\n",
    "\n",
    "response = http.request('GET', url)\n",
    "soup = BeautifulSoup(response.data)\n",
    "#print(soup.prettify())\n",
    "s = soup.find_all('a', href=True)\n",
    "\n",
    "valid_links = []\n",
    "for link in s:\n",
    "    if link['href'].find('politics') != -1 and link['href'].find('.html') != -1 and link['href'].find('/interactive/') == -1 and link['href'].find('/video/') == -1 and link['href'].find('index.html') == -1:\n",
    "        if link['href'] not in valid_links:\n",
    "            valid_links.append(link['href'])\n"
   ]
  },
  {
   "cell_type": "code",
   "execution_count": 8,
   "metadata": {},
   "outputs": [
    {
     "ename": "NameError",
     "evalue": "name 'valid_links' is not defined",
     "output_type": "error",
     "traceback": [
      "\u001b[0;31m---------------------------------------------------------------------------\u001b[0m",
      "\u001b[0;31mNameError\u001b[0m                                 Traceback (most recent call last)",
      "\u001b[0;32m<ipython-input-8-190f0383406f>\u001b[0m in \u001b[0;36m<module>\u001b[0;34m\u001b[0m\n\u001b[0;32m----> 1\u001b[0;31m \u001b[0mvalid_links\u001b[0m\u001b[0;34m\u001b[0m\u001b[0;34m\u001b[0m\u001b[0m\n\u001b[0m",
      "\u001b[0;31mNameError\u001b[0m: name 'valid_links' is not defined"
     ]
    }
   ],
   "source": []
  },
  {
   "cell_type": "code",
   "execution_count": 76,
   "metadata": {},
   "outputs": [
    {
     "name": "stdout",
     "output_type": "stream",
     "text": [
      "1 record inserted.\n",
      "1 record inserted.\n",
      "1 record inserted.\n",
      "1 record inserted.\n",
      "1 record inserted.\n",
      "1 record inserted.\n",
      "1 record inserted.\n",
      "1 record inserted.\n",
      "1 record inserted.\n",
      "1 record inserted.\n"
     ]
    }
   ],
   "source": [
    "#Insert record \n",
    "\n",
    "for link in valid_links:\n",
    "    sql = \"INSERT INTO urls (url, date, outlet) VALUES (%s, %s, %s)\"\n",
    "    val = (\"https://www.nytimes.com\"+link, \"08/20/2019\",'NewYorkTimes')\n",
    "    mycursor.execute(sql, val)\n",
    "\n",
    "    mydb.commit()\n",
    "\n",
    "    print(mycursor.rowcount, \"record inserted.\")\n",
    "    "
   ]
  },
  {
   "cell_type": "code",
   "execution_count": null,
   "metadata": {},
   "outputs": [],
   "source": []
  },
  {
   "cell_type": "code",
   "execution_count": 75,
   "metadata": {},
   "outputs": [
    {
     "name": "stdout",
     "output_type": "stream",
     "text": [
      "11 record(s) deleted\n"
     ]
    }
   ],
   "source": [
    "#mycursor = mydb.cursor()\n",
    "\n",
    "#sql = \"DELETE FROM urls WHERE outlet = 'NewYorkTimes'\"\n",
    "\n",
    "#mycursor.execute(sql)\n",
    "\n",
    "#mydb.commit()\n",
    "\n",
    "#print(mycursor.rowcount, \"record(s) deleted\")"
   ]
  },
  {
   "cell_type": "code",
   "execution_count": 3,
   "metadata": {},
   "outputs": [],
   "source": []
  },
  {
   "cell_type": "code",
   "execution_count": 4,
   "metadata": {},
   "outputs": [],
   "source": []
  },
  {
   "cell_type": "code",
   "execution_count": 5,
   "metadata": {},
   "outputs": [],
   "source": []
  },
  {
   "cell_type": "code",
   "execution_count": 7,
   "metadata": {},
   "outputs": [],
   "source": []
  },
  {
   "cell_type": "code",
   "execution_count": null,
   "metadata": {},
   "outputs": [],
   "source": []
  },
  {
   "cell_type": "code",
   "execution_count": 23,
   "metadata": {},
   "outputs": [
    {
     "name": "stdout",
     "output_type": "stream",
     "text": [
      "https://www.nytimes.com/2019/08/19/us/politics/elizabeth-warren-natidve-american.html\n"
     ]
    }
   ],
   "source": [
    "print(construct_full_url('/2019/08/19/us/politics/elizabeth-warren-native-american.html', 'NewYorkTimes'))"
   ]
  },
  {
   "cell_type": "code",
   "execution_count": 17,
   "metadata": {},
   "outputs": [
    {
     "data": {
      "text/plain": [
       "False"
      ]
     },
     "execution_count": 17,
     "metadata": {},
     "output_type": "execute_result"
    }
   ],
   "source": [
    "check_present(construct_full_url('/2019/08/19/us/politics/elizabeth-warren-native-american.html', 'NewYorkTimes'))"
   ]
  },
  {
   "cell_type": "code",
   "execution_count": 21,
   "metadata": {},
   "outputs": [
    {
     "data": {
      "text/plain": [
       "True"
      ]
     },
     "execution_count": 21,
     "metadata": {},
     "output_type": "execute_result"
    }
   ],
   "source": []
  },
  {
   "cell_type": "code",
   "execution_count": null,
   "metadata": {},
   "outputs": [],
   "source": [
    "mycursor.execute(\"CREATE TABLE urls (url VARCHAR(1000), date VARCHAR(50), outlet VARCHAR(50))\")\n",
    "mycursor.execute(\"CREATE TABLE raw_articles (url VARCHAR(1000), raw_article MEDIUMTEXT)\")\n",
    "mycursor.execute(\"ALTER TABLE urls ADD COLUMN id INT AUTO_INCREMENT PRIMARY KEY\")\n",
    "mycursor.execute(\"ALTER TABLE raw_articles ADD COLUMN id INT AUTO_INCREMENT PRIMARY KEY\")"
   ]
  },
  {
   "cell_type": "code",
   "execution_count": null,
   "metadata": {},
   "outputs": [],
   "source": [
    "mycursor = mydb.cursor()\n",
    "\n",
    "mycursor.execute(\"SHOW DATABASES\")\n",
    "\n",
    "for x in mycursor:\n",
    "  print(x) "
   ]
  }
 ],
 "metadata": {
  "kernelspec": {
   "display_name": "Python 3",
   "language": "python",
   "name": "python3"
  },
  "language_info": {
   "codemirror_mode": {
    "name": "ipython",
    "version": 3
   },
   "file_extension": ".py",
   "mimetype": "text/x-python",
   "name": "python",
   "nbconvert_exporter": "python",
   "pygments_lexer": "ipython3",
   "version": "3.6.8"
  }
 },
 "nbformat": 4,
 "nbformat_minor": 2
}
