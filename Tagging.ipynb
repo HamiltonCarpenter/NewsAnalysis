{
 "cells": [
  {
   "cell_type": "code",
   "execution_count": null,
   "metadata": {},
   "outputs": [],
   "source": [
    "#\"https://www.washingtonpost.com/politics/2019/09/05/trumps-insistence-that-his-incorrect-alabama-tweet-was-correct-tips-into-orwellian/?noredirect=on'\n",
    "#- trump lying about the path of hurricane dorian\n",
    "\n",
    "#\"http://washingtonpost.com/politics/this-is-your-job-not-ours-orourke-campaign-stung-by-twitter-smear-implores-tech-firms-to-erase-disinformation/2019/09/06/f6db3992-d091-11e9-b29b-a528dc82154a_story.html?tid=pm_politics_pop\"\n",
    "#- beto asked tech companies to do more about fake news folowing a misleeding viral message identifying a mass shooter as one of his supporters\n",
    "\n",
    "\n",
    "\n",
    "\n",
    "\n",
    "\n",
    "\n",
    "\n",
    "\n",
    "\n",
    "\n"
   ]
  },
  {
   "cell_type": "code",
   "execution_count": 2,
   "metadata": {},
   "outputs": [],
   "source": [
    "import urllib3\n",
    "import re\n",
    "import browsercookie\n",
    "from bs4 import BeautifulSoup\n",
    "import bs4\n",
    "import datetime\n",
    "from time import sleep\n",
    "import requests \n",
    "import mysql.connector\n",
    "import os\n",
    "import time\n",
    "import random\n",
    "from urllib3.exceptions import MaxRetryError"
   ]
  },
  {
   "cell_type": "code",
   "execution_count": null,
   "metadata": {},
   "outputs": [],
   "source": []
  },
  {
   "cell_type": "code",
   "execution_count": 2,
   "metadata": {},
   "outputs": [],
   "source": [
    "def scrape_article_for_raw_text(outlet,section,url):\n",
    "    http = urllib3.PoolManager()\n",
    "\n",
    "    response = http.request('GET', url)\n",
    "    soup = BeautifulSoup(response.data)\n",
    "    #print(soup.prettify())\n",
    "    return str(soup)"
   ]
  },
  {
   "cell_type": "code",
   "execution_count": 8,
   "metadata": {},
   "outputs": [],
   "source": [
    "soup = scrape_article_for_raw_text('WashingtonPost',\"Politics\",'http://washingtonpost.com/politics/this-is-your-job-not-ours-orourke-campaign-stung-by-twitter-smear-implores-tech-firms-to-erase-disinformation/2019/09/06/f6db3992-d091-11e9-b29b-a528dc82154a_story.html?tid=pm_politics_pop')\n"
   ]
  },
  {
   "cell_type": "code",
   "execution_count": 1,
   "metadata": {},
   "outputs": [],
   "source": [
    "#soup = BeautifulSoup(soup, \"html.parser\")\n",
    "\n",
    "#extract text\n",
    "#text = soup.find_all('p', text=True)\n",
    "#for t in text:\n",
    "#    print(t.text)"
   ]
  },
  {
   "cell_type": "code",
   "execution_count": 38,
   "metadata": {},
   "outputs": [
    {
     "name": "stdout",
     "output_type": "stream",
     "text": [
      "Helper Functions Included\n",
      "Database_Interactions Included\n",
      "Helper Functions Included\n",
      "Helper Functions Included\n",
      "Database_Interactions Included\n",
      "Helper Functions Included\n",
      "Helper Functions Included\n",
      "Helper Functions Included\n",
      "Database_Interactions Included\n",
      "Helper Functions Included\n",
      "Database_Interactions Included\n"
     ]
    }
   ],
   "source": [
    "%run 'Database_Interactions.ipynb'\n",
    "%run 'Local_File_Interactions.ipynb'\n",
    "%run 'Document_Handling.ipynb'"
   ]
  },
  {
   "cell_type": "code",
   "execution_count": null,
   "metadata": {},
   "outputs": [],
   "source": [
    "\n"
   ]
  },
  {
   "cell_type": "code",
   "execution_count": 55,
   "metadata": {},
   "outputs": [],
   "source": [
    "db = DatabaseManager()\n",
    "lf = LocalFileHandler()\n",
    "\n",
    "current_article = db.get_unannotated_urls()[0][0]"
   ]
  },
  {
   "cell_type": "code",
   "execution_count": 56,
   "metadata": {},
   "outputs": [],
   "source": [
    "#lf.get_absolute_document_location(current_article)"
   ]
  },
  {
   "cell_type": "code",
   "execution_count": 57,
   "metadata": {},
   "outputs": [],
   "source": [
    "doc = Document(current_article)"
   ]
  },
  {
   "cell_type": "code",
   "execution_count": 58,
   "metadata": {},
   "outputs": [
    {
     "data": {
      "text/plain": [
       "'https://www.nytimes.com/2019/08/19/us/politics/jill-biden-democrats.html'"
      ]
     },
     "execution_count": 58,
     "metadata": {},
     "output_type": "execute_result"
    }
   ],
   "source": [
    "current_article"
   ]
  },
  {
   "cell_type": "code",
   "execution_count": 53,
   "metadata": {},
   "outputs": [],
   "source": [
    "\n",
    "\n",
    "url = current_article\n",
    "descriptors = ['DACA','Supreme Court','court','immigration']#,'mental health','Dayton','El Paso']\n",
    "same_stories = []\n",
    "exact_duplicates = []\n",
    "summary = \"Government lawyers argue that DACA is unlawful\" \n",
    "\n",
    "#db.add_summary_to_db(url, descriptors, same_stories, exact_duplicates, summary)"
   ]
  },
  {
   "cell_type": "code",
   "execution_count": 54,
   "metadata": {},
   "outputs": [
    {
     "name": "stdout",
     "output_type": "stream",
     "text": [
      "1 record inserted.\n"
     ]
    }
   ],
   "source": [
    "db.add_summary_to_db(url, descriptors, same_stories, exact_duplicates, summary)\n",
    "#add protection to deal with multiple entries for same url \n",
    "#need to deal with recognising garbage articles: 'https://www.nytimes.com/2019/08/20/us/politics/trump-economy-recession.html'\n",
    "#for now tag with 'Garbage'"
   ]
  },
  {
   "cell_type": "code",
   "execution_count": 59,
   "metadata": {
    "scrolled": true
   },
   "outputs": [
    {
     "name": "stdout",
     "output_type": "stream",
     "text": [
      "Advertisement\n",
      "Supported by\n",
      "“You may like another candidate better, but you have to look at who is going to win,” she said, while campaigning for Joe Biden in New Hampshire.\n",
      "Jill Biden laid out the political calculus of her husband’s presidential campaign in extraordinarily blunt terms on Monday, directly acknowledging that some voters may prefer other candidates but urging them to support Joseph R. Biden Jr. anyway, in an effort to defeat President Trump.\n",
      "As Mr. Biden, the early poll leader, works — and sometimes struggles — to excite a Democratic base that has moved left since he last ran for office, Dr. Biden, campaigning in New Hampshire, called on Democrats to prioritize perceived electability over enthusiasm for individual contenders or their policies. \n",
      "“You may like another candidate better, but you have to look at who is going to win,” she said, addressing a gathering of educators. “And if education is your main issue, Joe is that person.”\n",
      "“Your candidate might be better on, I don’t know, health care than Joe is, but you’ve got to look at who’s going to win this election,” Dr. Biden said. “And maybe you have to swallow a little bit and say, ‘O.K., I sort of personally like so-and-so better,’ but your bottom line has to be that we have to beat Trump.”\n",
      "A Biden aide noted that Dr. Biden had also said that many people in the room were not sold on her husband — a suggestion that she was simply trying to persuade.\n",
      "“I know that not all of you are committed to my husband, and I respect that, but I want you to think about your candidate, his or her electability, and who’s going to win this race,” she said, pointing to polls showing Mr. Biden with consistent leads.\n",
      "“We know in our bones this election is different,” the ad says. “The stakes are higher. The threat more serious. We have to beat Donald Trump, and all the polls agree, Joe Biden is the strongest Democrat to do the job.”\n",
      "He and his allies often argue that of all of the Democratic candidates running, his more centrist approach, potential appeal to independents and longstanding ties to labor would help him win back states Mr. Trump won in the industrial Midwest. \n",
      "Dr. Biden’s unvarnished emphasis on pragmatism reflected that bet, even as many other candidates believe that the way to defeat Mr. Trump is by energizing young voters, particularly younger voters of color, through boldly progressive policy proposals.\n",
      "Asked whether he perceived the comments as an acknowledgment of enthusiasm challenges for Mr. Biden, Mr. Harpootlian replied: “This is not an admission of anything. It’s an admission that he is the strongest person to beat Donald Trump. That’s all it is.”\n",
      "Advertisement\n",
      "\n"
     ]
    }
   ],
   "source": [
    "print(doc.text)"
   ]
  },
  {
   "cell_type": "code",
   "execution_count": null,
   "metadata": {},
   "outputs": [],
   "source": [
    "#split on spaces for analysis of tags\n",
    "#make sure same case"
   ]
  },
  {
   "cell_type": "code",
   "execution_count": null,
   "metadata": {},
   "outputs": [],
   "source": []
  },
  {
   "cell_type": "code",
   "execution_count": 88,
   "metadata": {},
   "outputs": [
    {
     "data": {
      "text/plain": [
       "'https://www.washingtonpost.com/politics/trump-calls-on-fed-to-cut-rates-by-100-basis-points-amid-recession-fears/2019/08/19/289f192a-c292-11e9-9986-1fb3e4397be4_story.html'"
      ]
     },
     "execution_count": 88,
     "metadata": {},
     "output_type": "execute_result"
    }
   ],
   "source": [
    "\n",
    "'Trump walked back support for background checks on gun sales after Dayton and El Paso shootings'\n",
    "'https://www.washingtonpost.com/politics/after-two-more-mass-shootings-trump-again-appears-to-back-away-from-gun-background-checks/2019/08/19/ddbf75e4-c2af-11e9-b72f-b31dfaa77212_story.html'\n",
    "'https://www.nytimes.com/2019/08/19/us/politics/trump-gun-laws.html'\n",
    "\n",
    "\"Kamala Harris says she wants to give 500/month to lower income families, benefits phase out as incomes climb, says she'll pay by repealing Trump cut but numbers dont add up\"\n",
    "'https://www.washingtonpost.com/politics/fact-checker/kamala-harris-uses-fuzzy-math-to-suggest-her-tax-cut-is-paid-for/2019/08/20/c4a4640e-2955-4d0d-a10b-6416e8dbd375_story.html'\n",
    "\n",
    "\n",
    "\"race and reparations are moving toward the center stage from the fringes in New Hampshire, white liberal attitudes changeing largely in reaction to presidency\"\n",
    "'https://www.washingtonpost.com/politics/new-hampshires-white-liberals-grapple-with-reparations/2019/08/19/db65f2ec-b52f-11e9-8949-5f36ff92706e_story.html'\n",
    "\n",
    "\n",
    "\"Corey Booker wants go give every child $5000 to be available for college tuition, buying a home, or starting a business when the turn 18\"\n",
    "'https://www.washingtonpost.com/politics/cory-booker-wants-a-baby-bond-for-every-us-child-would-it-work/2019/08/15/35003f16-b88b-11e9-bad6-609f75bfd97f_story.html'\n",
    "\n",
    "\n",
    "\"Kirsten Gillibrand isn't giving up, dealing with history of A rating with NRA, wanted franken out but 'believes in second chances'\"\n",
    "'https://www.washingtonpost.com/politics/gillibrand-on-whether-franken-should-make-a-comeback-its-not-my-decision/2019/08/19/41fdb58e-c14d-11e9-a5c6-1e74f7ec4a93_story.html'\n",
    "\n",
    "\n",
    "\"Ilhan Omar and Rashida Tlaib blocked from entering Israel after criticism, say this is what Netanyahu’s government does to those who oppose occupation\"\n",
    "'https://www.washingtonpost.com/politics/omar-tlaib-blast-israel-for-blocking-their-visit/2019/08/19/6c0ffda6-c2b9-11e9-850e-c0eef81a5224_story.html'\n",
    "'http://washingtonpost.com/politics/omar-tlaib-blast-israel-for-blocking-their-visit/2019/08/19/6c0ffda6-c2b9-11e9-850e-c0eef81a5224_story.html?tid=pm_politics_pop'\n",
    "\n",
    "\"Trump speaking in New Hampshire said unemployment is the best its ever been, made multiple misleading statements. Says things are constantly getting better when they have actually been flat\"\n",
    "'https://www.washingtonpost.com/politics/employment-numbers-in-the-states-key-to-trumps-2016-win-are-flat-this-year/2019/08/19/0cd459aa-67b8-45bf-bdc3-bd3b85f6ff82_story.html'\n",
    "\n",
    "\"Abigail Spanberger is a moderate dem house rep who walks a tightrope and faces attacks from the left\"\n",
    "'https://www.washingtonpost.com/local/virginia-politics/what-rep-abigail-spanberger-learned-after-clashing-with-progressives/2019/08/19/ad887a26-a8f9-11e9-a3a6-ab670962db05_story.html'\n",
    "\n",
    "\"Mike Pompeo used to critize trump but now loyaly defends, made inaccurate satements about chinese camps and brushed off criticisms of oppo research\"\n",
    "'https://www.washingtonpost.com/politics/mike-pompeo-compared-trump-to-authoritarian-obama-in-2016/2019/08/19/ce2c3736-c29e-11e9-9986-1fb3e4397be4_story.html'\n",
    "\n",
    "\"Trump accusese google of bias and of giving hillary 2.6-10.4 million votes\"\n",
    "'https://www.washingtonpost.com/politics/trump-stumbles-onto-a-new-justification-for-losing-the-popular-vote-its-googles-fault/2019/08/19/f455de3a-496f-40fa-938c-948fa734c8d9_story.html'\n",
    "\n",
    "\"Trump pressuring fed to start quantitative easing and reduce intrest rates\"\n",
    "'https://www.washingtonpost.com/politics/trump-calls-on-fed-to-cut-rates-by-100-basis-points-amid-recession-fears/2019/08/19/289f192a-c292-11e9-9986-1fb3e4397be4_story.html'\n",
    "'https://www.nytimes.com/2019/08/18/us/politics/trump-economy-recession.html'\n",
    "\n",
    "\"Warren apologizes for calling herself a native american, angered many natives with dna test, apologized for that too\"\n",
    "'https://www.washingtonpost.com/politics/sen-elizabeth-warren-apologizes-for-harm-that-i-have-caused-to-native-americans/2019/08/19/ce74c3c0-c280-11e9-9986-1fb3e4397be4_story.html'\n",
    "\n",
    "\"Slavery has a long history in america. Traces history from pre america up to modern day.\"\n",
    "'https://www.washingtonpost.com/politics/nearly-a-third-of-americans-were-alive-during-jim-crow/2019/08/19/7cfc0760-2eb0-4d8d-8afb-42d76ef88293_story.html'\n",
    "\n",
    "\"Trump and his advisors have different and inconsistent arguments about the effects of the trade war on the US and China\"\n",
    "'https://www.washingtonpost.com/politics/trump-again-undercuts-his-administrations-messy-tariffs-rhetoric/2019/08/19/6ca7752a-0a75-46cb-8b5f-096496acc028_story.html'\n",
    "\n",
    "\n",
    "\"Huawei gets another 90 day extention on sanctions\"\n",
    "'https://www.washingtonpost.com/politics/commerce-department-will-extend-huawei-reprieve-ross-says/2019/08/19/82a11436-c275-11e9-9986-1fb3e4397be4_story.html'\n",
    "\"NOT ADDED IMPERFECT MATCH: 'https://www.washingtonpost.com/politics/trump-calls-on-fed-to-cut-rates-by-100-basis-points-amid-recession-fears/2019/08/19/289f192a-c292-11e9-9986-1fb3e4397be4_story.html'\"\n",
    "\n",
    "\n",
    "\"ISIS is weakened and in retreat and is pushed to fighting guerilla war in rural areas but is yet undefeated\"\n",
    "'https://www.nytimes.com/2019/08/19/us/politics/isis-iraq-syria.html'\n",
    "\n",
    "\"Government lawyers argue that DACA is unlawful\"\n",
    "'https://www.nytimes.com/2019/08/19/us/politics/daca-trump.html'\n",
    "\n"
   ]
  },
  {
   "cell_type": "code",
   "execution_count": 52,
   "metadata": {},
   "outputs": [],
   "source": [
    "#doc2 = Document('https://www.washingtonpost.com/politics/trump-calls-on-fed-to-cut-rates-by-100-basis-points-amid-recession-fears/2019/08/19/289f192a-c292-11e9-9986-1fb3e4397be4_story.html')\n",
    "#print(doc2.text)c"
   ]
  },
  {
   "cell_type": "code",
   "execution_count": 6,
   "metadata": {},
   "outputs": [
    {
     "data": {
      "text/plain": [
       "'https://www.washingtonpost.com/politics/commerce-department-will-extend-huawei-reprieve-ross-says/2019/08/19/82a11436-c275-11e9-9986-1fb3e4397be4_story.html'"
      ]
     },
     "execution_count": 6,
     "metadata": {},
     "output_type": "execute_result"
    }
   ],
   "source": [
    "db.check_if_duplicate_url_already_in_story_summaries(\" https://www.washingtonpost.com/politics/commerce-department-will-extend-huawei-reprieve-ross-says/2019/08/19/.html\")"
   ]
  },
  {
   "cell_type": "code",
   "execution_count": null,
   "metadata": {},
   "outputs": [],
   "source": []
  }
 ],
 "metadata": {
  "kernelspec": {
   "display_name": "Python 3",
   "language": "python",
   "name": "python3"
  },
  "language_info": {
   "codemirror_mode": {
    "name": "ipython",
    "version": 3
   },
   "file_extension": ".py",
   "mimetype": "text/x-python",
   "name": "python",
   "nbconvert_exporter": "python",
   "pygments_lexer": "ipython3",
   "version": "3.6.8"
  }
 },
 "nbformat": 4,
 "nbformat_minor": 2
}
